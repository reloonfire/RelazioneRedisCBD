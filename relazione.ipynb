{
 "cells": [
  {
   "attachments": {},
   "cell_type": "markdown",
   "metadata": {},
   "source": [
    "# Introduzione a Redis"
   ]
  },
  {
   "attachments": {},
   "cell_type": "markdown",
   "metadata": {},
   "source": [
    "## Nozioni Base\n",
    "Redis è un in-memory data structure store open source (BSD licensed)usato come database, cache, message broker e streaming engine. Redis dispone di data structures come strings, hashes, lists, sets, sorted sets con diverse queries, bitmaps, hyperloglogs, geospatial indexes, e streams. Redis ha un built-in replica system che permette di creare repliche del medesimo DB, Lua scripting, LRU eviction, transazioni e diversi livelli di on-disk persistence.\n",
    "\n",
    "Per ottenere il massimo delle performance, Redis utilizza un dataset in-memory. In base al caso d'uso Redis può salvare i dati dumpando periodicamente il dataset su disco, oppure aggiungere ad un log ogni operazione (comando) effettuato.\n",
    "\n",
    "Redis può essere usato su quasi tutti i linguaggi di programmazione disponibili."
   ]
  },
  {
   "attachments": {},
   "cell_type": "markdown",
   "metadata": {},
   "source": [
    "## Chi usa Redis?\n",
    "Le compagnie più note che usano Redis sono:\n",
    "- Twitter\n",
    "- Github\n",
    "- Snapchat\n",
    "- Cragslist\n",
    "- StackOverflow\n",
    "\n",
    "E molte altre ancora."
   ]
  },
  {
   "attachments": {},
   "cell_type": "markdown",
   "metadata": {},
   "source": [
    "## Installazione\n",
    "### Windows\n",
    "Redis non è supportato su Windows, ma si può installare sfruttando la WSL2 (Windows Subsystem for Linux).\n",
    "Con una shell WSL correttamente inizializzata si potranno seguire gli step di installazione su macchina Ubuntu/Debian per installare l'ultima versione di Redis.\n",
    "\n",
    "```bash\n",
    "curl -fsSL https://packages.redis.io/gpg | sudo gpg --dearmor -o /usr/share/keyrings/redis-archive-keyring.gpg\n",
    "\n",
    "echo \"deb [signed-by=/usr/share/keyrings/redis-archive-keyring.gpg] https://packages.redis.io/deb $(lsb_release -cs) main\" | sudo tee /etc/apt/sources.list.d/redis.list\n",
    "\n",
    "sudo apt-get update\n",
    "sudo apt-get install redis\n",
    "```\n",
    "\n",
    "E per avviare il servizio basterà lanciare il comando:\n",
    "```bash\n",
    "sudo service redis-server start\n",
    "```"
   ]
  },
  {
   "attachments": {},
   "cell_type": "markdown",
   "metadata": {},
   "source": [
    "### Linux\n",
    "Avendo in commercio una gran quantità di distribuzioni Linux, ogni package manager di riferimento ha una guida su come installare il pacchetto Redis.\n",
    "Come spiegato nel capitolo per Windows, su sistemi Debian/Ubuntu possiamo aggiungere il Repository APT Ufficiale `packages.redis.io` e installare successivamente il pacchetto:\n",
    "```bash\n",
    "curl -fsSL https://packages.redis.io/gpg | sudo gpg --dearmor -o /usr/share/keyrings/redis-archive-keyring.gpg\n",
    "\n",
    "echo \"deb [signed-by=/usr/share/keyrings/redis-archive-keyring.gpg] https://packages.redis.io/deb $(lsb_release -cs) main\" | sudo tee /etc/apt/sources.list.d/redis.list\n",
    "\n",
    "sudo apt-get update\n",
    "sudo apt-get install redis\n",
    "```\n",
    "\n",
    "Alternativamente possiamo sfruttare il pacchetto Redis disponibile sullo Snapcraft Store e installarlo su tutte le distribuzioni che lo supportano:\n",
    "\n",
    "```bash\n",
    "sudo snap install redis\n",
    "```"
   ]
  },
  {
   "attachments": {},
   "cell_type": "markdown",
   "metadata": {},
   "source": [
    "### MacOS\n",
    "Per installare il pacchetto Redis su dispositivi macOS, sarà necessario in prima battuta installare Brew, un package manager creato per il Sistema Operativo di Cupertino.\n",
    "Una volta installato correttamente si dovrà semplicemente lanciare il comando:\n",
    "```bash\n",
    "brew install redis\n",
    "```\n",
    "\n",
    "Per avviare il servizio si dovrà usare:\n",
    "```bash\n",
    "redis-server\n",
    "```\n",
    "\n",
    "Per fermare il servizio andrà premuto `CTRL-C`"
   ]
  },
  {
   "attachments": {},
   "cell_type": "markdown",
   "metadata": {},
   "source": [
    "## Pro e Contro\n",
    "PRO:\n",
    "\n",
    "- Velocità: Redis è estremamente veloce, in grado di gestire grandi quantità di dati in modo rapido e efficiente, grazie alla sua architettura in memoria.\n",
    "\n",
    "- Scalabilità: Redis è in grado di scalare orizzontalmente, ovvero di aggiungere nodi al cluster per aumentare la capacità di gestione dei dati.\n",
    "\n",
    "- API: Redis offre una vasta gamma di API per supportare la gestione dei dati, tra cui la memorizzazione di dati semplici, liste, set e mappe.\n",
    "\n",
    "- Persistenza dei dati: Redis offre la possibilità di persistere i dati su disco, garantendo la durata dei dati in caso di malfunzionamenti del server.\n",
    "\n",
    "- Architettura semplice: Redis è facile da utilizzare e da configurare, anche per gli utenti meno esperti.\n",
    "\n",
    "CONTRO:\n",
    "\n",
    "- Scalabilità: Anche se Redis è in grado di scalare orizzontalmente, aggiungendo nodi ai cluster, non sfrutta al massimo le capacità della singola macchina. Per questo sono state create versioni multi-thread ad esempio: [cachegrand.io](https://cachegrand.io/)\n",
    "\n",
    "- Capacità limitata: Poiché Redis utilizza la memoria per archiviare i dati, la capacità di archiviazione è limitata dalla quantità di memoria disponibile sul server.\n",
    "\n",
    "- Nessun supporto per SQL: Redis non supporta SQL, quindi non è adatto per applicazioni che richiedono complesse operazioni di query.\n",
    "\n",
    "- Persistenza dei dati: Anche se Redis offre la possibilità di persistere i dati su disco, questa funzionalità può rallentare le prestazioni del server.\n",
    "\n",
    "- Nessun supporto per transazioni complesse: Redis non supporta le transazioni complesse, il che lo rende meno adatto per le applicazioni che richiedono operazioni di transazione complesse e transazioni ACID."
   ]
  },
  {
   "attachments": {},
   "cell_type": "markdown",
   "metadata": {},
   "source": [
    "## Librerie del DBMS\n",
    "Quasi tutti i linguaggi di programmazione hanno disponibile un porting per connettersi al servizio Redis, lavorando con Python andremo nel dettaglio di quest'ultima.\n",
    "### redis-py\n",
    "**Installazione**\n",
    "\n",
    "Per installare redis-py:\n",
    "```bash\n",
    "pip install redis-py\n",
    "```\n",
    "\n",
    "Per migliorare le performance si può utilizzare installa il pacchetto con il supporto ad `hiredis`, che offre un Response Parser compilato, che per molte situazioni richiede 0 modifiche.\n",
    "\n",
    "```bash\n",
    "pip install redis[hiredis]\n",
    "```"
   ]
  },
  {
   "attachments": {},
   "cell_type": "markdown",
   "metadata": {},
   "source": [
    "Link alla documentazione di [redis-py](https://redis-py.readthedocs.io/en/stable/)"
   ]
  },
  {
   "attachments": {},
   "cell_type": "markdown",
   "metadata": {},
   "source": [
    "Installazione di redis-py su Jupiter:"
   ]
  },
  {
   "cell_type": "code",
   "execution_count": 1,
   "metadata": {},
   "outputs": [
    {
     "name": "stdout",
     "output_type": "stream",
     "text": [
      "Defaulting to user installation because normal site-packages is not writeable\n",
      "Requirement already satisfied: redis in /home/reloonfire/.local/lib/python3.11/site-packages (4.5.5)\n",
      "Note: you may need to restart the kernel to use updated packages.\n"
     ]
    }
   ],
   "source": [
    "%pip install redis"
   ]
  },
  {
   "attachments": {},
   "cell_type": "markdown",
   "metadata": {},
   "source": [
    "## Creazione e Connessione al DB\n",
    "Per facilitare lo sviluppo su più sistemi operativi, questo progetto dispone di un docker-compose.yml file, contenente il necessario per avviare un'istanza redis con due User Interfaces, quali `redis-cli` e `RedisInsight`.\n",
    "\n",
    "Per avviare il servizio si può lanciare il comando:\n",
    "```bash\n",
    "make start\n",
    "```"
   ]
  },
  {
   "attachments": {},
   "cell_type": "markdown",
   "metadata": {},
   "source": [
    "### Connessione al DB tramite redis-py"
   ]
  },
  {
   "cell_type": "code",
   "execution_count": 2,
   "metadata": {},
   "outputs": [],
   "source": [
    "import redis\n",
    "from redis.commands.json.path import Path\n",
    "from redis.commands.search.field import TextField, NumericField, VectorField\n",
    "from redis.commands.search.indexDefinition import IndexDefinition, IndexType\n",
    "\n",
    "r = redis.Redis(host='localhost', port=6379, decode_responses=True)"
   ]
  },
  {
   "attachments": {},
   "cell_type": "markdown",
   "metadata": {},
   "source": [
    "## Operazioni CRUD\n",
    "In Redis, le operazioni CRUD (Create, Read, Update, Delete) sono eseguite tramite comandi specifici per la manipolazione dei dati.\n",
    "\n",
    "Ecco una panoramica delle operazioni CRUD in Redis:\n",
    "\n",
    "- CREATE: L'operazione di creazione di un nuovo dato in Redis viene eseguita utilizzando il comando SET. Ad esempio, per creare un nuovo valore \"valore1\" associato alla chiave \"chiave1\", si può utilizzare il comando SET chiave1 valore1."
   ]
  },
  {
   "cell_type": "code",
   "execution_count": 3,
   "metadata": {},
   "outputs": [
    {
     "data": {
      "text/plain": [
       "True"
      ]
     },
     "execution_count": 3,
     "metadata": {},
     "output_type": "execute_result"
    }
   ],
   "source": [
    "r.set('nome', 'Marco')"
   ]
  },
  {
   "attachments": {},
   "cell_type": "markdown",
   "metadata": {},
   "source": [
    "- READ: Per leggere i dati associati a una chiave, si può utilizzare il comando GET. Ad esempio, per leggere il valore associato alla chiave \"chiave1\", si può utilizzare il comando GET chiave1."
   ]
  },
  {
   "cell_type": "code",
   "execution_count": 4,
   "metadata": {},
   "outputs": [
    {
     "data": {
      "text/plain": [
       "'Marco'"
      ]
     },
     "execution_count": 4,
     "metadata": {},
     "output_type": "execute_result"
    }
   ],
   "source": [
    "r.get('nome')"
   ]
  },
  {
   "attachments": {},
   "cell_type": "markdown",
   "metadata": {},
   "source": [
    "- UPDATE: L'operazione di aggiornamento di un dato esistente in Redis viene eseguita utilizzando il comando SET. Ad esempio, per aggiornare il valore associato alla chiave \"chiave1\" con il nuovo valore \"valore2\", si può utilizzare il comando SET chiave1 valore2."
   ]
  },
  {
   "cell_type": "code",
   "execution_count": 5,
   "metadata": {},
   "outputs": [
    {
     "data": {
      "text/plain": [
       "True"
      ]
     },
     "execution_count": 5,
     "metadata": {},
     "output_type": "execute_result"
    }
   ],
   "source": [
    "r.set('nome', 'Francesco')"
   ]
  },
  {
   "attachments": {},
   "cell_type": "markdown",
   "metadata": {},
   "source": [
    "\n",
    "- DELETE: Per eliminare una chiave e il valore associato, si può utilizzare il comando DEL. Ad esempio, per eliminare la chiave \"chiave1\" e il valore associato ad essa, si può utilizzare il comando DEL chiave1."
   ]
  },
  {
   "cell_type": "code",
   "execution_count": 6,
   "metadata": {},
   "outputs": [
    {
     "data": {
      "text/plain": [
       "1"
      ]
     },
     "execution_count": 6,
     "metadata": {},
     "output_type": "execute_result"
    }
   ],
   "source": [
    "r.delete('nome')"
   ]
  },
  {
   "attachments": {},
   "cell_type": "markdown",
   "metadata": {},
   "source": [
    "Inoltre, Redis offre anche altri comandi per manipolare i dati in modo più specifico, come ad esempio il comando INCR per incrementare il valore numerico di una chiave, il comando LPUSH per aggiungere un valore a una lista, e il comando SADD per aggiungere un elemento a un set."
   ]
  },
  {
   "attachments": {},
   "cell_type": "markdown",
   "metadata": {},
   "source": [
    "## Comparazione con i DBMS visti a lezione\n",
    "\n",
    "Redis è un DB NoSQL che offre velocità, affidabilità e prestazioni, posto a confronto con altri DB abbiamo alcune differenze:\n",
    "\n",
    "- Nel DB in analisi la differenza principale nel salvataggio dei dati in memoria è che questi non vengono salvati nella memoria secondaria ma bensì nella memoria primaria rendendo le operazioni di lettura e di scrittura molto veloci \n",
    "- La struttura delle query è molto semplice e varia in base alla versione di Redis che si utilizza: bisogna definire la funzione da eseguire e successivamente i parametri."
   ]
  },
  {
   "cell_type": "code",
   "execution_count": 7,
   "metadata": {},
   "outputs": [
    {
     "data": {
      "text/plain": [
       "6"
      ]
     },
     "execution_count": 7,
     "metadata": {},
     "output_type": "execute_result"
    }
   ],
   "source": [
    "r.rpush(\"mylist\", 1, 2, 3, 4, 5, \"hello world\")\n",
    "# RPUSH mylist 1 2 3 4 5 \"hello world\""
   ]
  },
  {
   "attachments": {},
   "cell_type": "markdown",
   "metadata": {},
   "source": [
    "&emsp;&emsp;&ensp;La funzione sopra indicata permette di eseguire una push in una lista aggiungendo sei elementi, per poter vedere gli elementi all'interno di una lista basta semplicemente eseguire:"
   ]
  },
  {
   "cell_type": "code",
   "execution_count": 8,
   "metadata": {},
   "outputs": [
    {
     "data": {
      "text/plain": [
       "['1', '2', '3', '4', '5', 'hello world']"
      ]
     },
     "execution_count": 8,
     "metadata": {},
     "output_type": "execute_result"
    }
   ],
   "source": [
    "r.lrange(\"mylist\", 0, -1)"
   ]
  },
  {
   "attachments": {},
   "cell_type": "markdown",
   "metadata": {},
   "source": [
    "Da questi esempi (non complessi) si può notare la semplicità e la facilità di uso di questo DB. \n",
    "In poco tempo con il supporto della documentazione si può imparare e si può utilizzare al meglio questo strumento.\n",
    "Infine la documentazione presente sul sito di <link href=\"redis.io\">redis.io</link> è disponibile solamente in inglese, permette di seguire l'utente dall'installazione all'utilizzo completo del Database e consente di imparare tutte le nozioni base (e anche non) in poco tempo in una guida descritta semplicemente e passo passo. "
   ]
  },
  {
   "attachments": {},
   "cell_type": "markdown",
   "metadata": {},
   "source": [
    "## Esempi di query (Complesse)\n",
    "E' importante notare che Redis non è un database relazionale tradizionale con un linguaggio di query completo come SQL. Redis è un database di strutture dati in memoria che offre un set di comandi per la manipolazione di essi.\n",
    "\n",
    "Nel contesto di Redis, le query complesse sono solitamente realizzate concatenando i comandi disponibili nel Redis Command Language. Vengono forniti un insieme di comandi predefiniti per interagire con Redis, come SET, GET, HSET, HGET, ecc., che possono essere utilizzati per leggere, scrivere o manipolare i dati all'interno delle strutture di dati come stringhe, liste, set, hash, ecc.\n",
    "\n",
    "Redis fornisce inoltre un sistema di scripting integrato, tramite il linguaggio Lua, che permette di eseguire più comandi e creare logiche complesse.\n",
    "\n",
    "Ai fini del progetto verranno introdotto due moduli esterni, ma disponibili all'interno della docker image <code>redis-stack</code> denominati [RediSearch](https://redis.io/docs/stack/search) e [RedisJSON](https://redis.io/docs/stack/json/), redis-stack contiene altri moduli per il supporto a Grafi e TimeSeries."
   ]
  },
  {
   "attachments": {},
   "cell_type": "markdown",
   "metadata": {},
   "source": [
    "## Introduzione ai Moduli Esterni\n",
    "RediSearch è un modulo open source di Redis che abilita all'uso di query, secondary indexing e full-text search sul DB. Queste funzionalità permetto queries su più fields, aggregation, exact phrase matching, come visto anche all'interno di ElasticSearch.\n",
    "Tramite questo modulo possiamo dunque simulare all'interno di redis un comportamento simile a quello di ES.\n",
    "\n",
    "Il modulo RedisJSON abilita al supporto per i JSON, permettendo di salvare, aggiornare e recuperare dei JSON values all'interno del DB, in modo similare ai tipi già coperti da Redis. RedisJSON funziona autoamaticamente con RediSearch permettendo di creare indici e effettuare query su documenti JSON."
   ]
  },
  {
   "attachments": {},
   "cell_type": "markdown",
   "metadata": {},
   "source": [
    "Per illustrare al meglio le qualità di Redis, abbiamo deciso di utilizzare i dati JSON utilizzati durante le lezioni dai professori, al fine di confrontarne la velocità di esecuzione e la complessità nella creazione delle query."
   ]
  },
  {
   "attachments": {},
   "cell_type": "markdown",
   "metadata": {},
   "source": [
    "Il codice seguente rappresenta la definizione dello schema del JSON nel quale vengono specificati gli attributi di ciascun campo. Per definire i valori nidificati all'interno di JSON bisogna, ad esempio ,  scrivere $.name.english per definire\"english\" dentro a \"name\".\n",
    "All'interno del file JSON è presente il campo \"Type\" che è un array di stringhe, per poterlo salvare utilizziamo TextField e i dati presenti saranno salvati come un array."
   ]
  },
  {
   "cell_type": "code",
   "execution_count": 9,
   "metadata": {},
   "outputs": [],
   "source": [
    "## Creiamo lo schema per l'indice\n",
    "schema = (NumericField('$.id', as_name='id'),\n",
    "          TextField('$.name.english', as_name='english'),\n",
    "          TextField('$.name.japanese', as_name='japanese'),\n",
    "          TextField('$.name.chinese', as_name='chinese'),\n",
    "          TextField('$.name.french', as_name='french'),\n",
    "          TextField('$.type', as_name='type'),\n",
    "          NumericField('$.base.HP', as_name='hp'),\n",
    "          NumericField('$.base.Attack', as_name='att'),\n",
    "          NumericField('$.base.Defense', as_name='def'),\n",
    "          NumericField('$.base.Sp. Attack', as_name='spatt'),\n",
    "          NumericField('$.base.Sp. Defense', as_name='spdef'),\n",
    "          NumericField('$.base.Speed', as_name='spd'))\n",
    "\n",
    "## Creiamo l'indice se non esiste\n",
    "try:\n",
    "    r.ft(\"pokemon\").create_index(schema, definition=IndexDefinition(\n",
    "        prefix=['pokemon:'], index_type=IndexType.JSON))\n",
    "except:\n",
    "    # passa oltre se esiste già\n",
    "    pass\n",
    "\n",
    "from redis.commands.search.query import NumericFilter, Query\n",
    "import redis.commands.search.aggregation as aggregations\n",
    "import redis.commands.search.reducers as reducers\n",
    "import time"
   ]
  },
  {
   "attachments": {},
   "cell_type": "markdown",
   "metadata": {},
   "source": [
    "- Cerca tutti i pokemon che contengono Pika nel loro nome:"
   ]
  },
  {
   "cell_type": "code",
   "execution_count": 10,
   "metadata": {},
   "outputs": [
    {
     "data": {
      "text/plain": [
       "[Document {'id': 'pokemon:25', 'payload': None, 'json': '{\"id\":25,\"name\":{\"english\":\"Pikachu\",\"japanese\":\"ピカチュウ\",\"chinese\":\"皮卡丘\",\"french\":\"Pikachu\"},\"type\":[\"Electric\"],\"base\":{\"HP\":35,\"Attack\":55,\"Defense\":40,\"Sp. Attack\":50,\"Sp. Defense\":50,\"Speed\":90}}'}]"
      ]
     },
     "execution_count": 10,
     "metadata": {},
     "output_type": "execute_result"
    }
   ],
   "source": [
    "r.ft(\"pokemon\").search(\"Pika*\").docs"
   ]
  },
  {
   "attachments": {},
   "cell_type": "markdown",
   "metadata": {},
   "source": [
    "La query Redis sopra mostrata permette la ricerca di tutti i Pokemon che iniziano con \"Pika\".\n",
    "Utilizzando la wildcard '*' alla fine del termine di ricerca \"Pika\" la query restituirà tutti i documenti che iniziano con \"Pika\"."
   ]
  },
  {
   "attachments": {},
   "cell_type": "markdown",
   "metadata": {},
   "source": [
    "- Cerca tutti i pokemon di tipo Fuoco (contenendo anche i tipi misti come Fuoco-Volante)"
   ]
  },
  {
   "cell_type": "code",
   "execution_count": 11,
   "metadata": {},
   "outputs": [
    {
     "data": {
      "text/plain": [
       "[Document {'id': 'pokemon:4', 'payload': None, 'json': '{\"id\":4,\"name\":{\"english\":\"Charmander\",\"japanese\":\"ヒトカゲ\",\"chinese\":\"小火龙\",\"french\":\"Salamèche\"},\"type\":[\"Fire\"],\"base\":{\"HP\":39,\"Attack\":52,\"Defense\":43,\"Sp. Attack\":60,\"Sp. Defense\":50,\"Speed\":65}}'},\n",
       " Document {'id': 'pokemon:5', 'payload': None, 'json': '{\"id\":5,\"name\":{\"english\":\"Charmeleon\",\"japanese\":\"リザード\",\"chinese\":\"火恐龙\",\"french\":\"Reptincel\"},\"type\":[\"Fire\"],\"base\":{\"HP\":58,\"Attack\":64,\"Defense\":58,\"Sp. Attack\":80,\"Sp. Defense\":65,\"Speed\":80}}'},\n",
       " Document {'id': 'pokemon:6', 'payload': None, 'json': '{\"id\":6,\"name\":{\"english\":\"Charizard\",\"japanese\":\"リザードン\",\"chinese\":\"喷火龙\",\"french\":\"Dracaufeu\"},\"type\":[\"Fire\",\"Flying\"],\"base\":{\"HP\":78,\"Attack\":84,\"Defense\":78,\"Sp. Attack\":109,\"Sp. Defense\":85,\"Speed\":100}}'},\n",
       " Document {'id': 'pokemon:37', 'payload': None, 'json': '{\"id\":37,\"name\":{\"english\":\"Vulpix\",\"japanese\":\"ロコン\",\"chinese\":\"六尾\",\"french\":\"Goupix\"},\"type\":[\"Fire\"],\"base\":{\"HP\":38,\"Attack\":41,\"Defense\":40,\"Sp. Attack\":50,\"Sp. Defense\":65,\"Speed\":65}}'},\n",
       " Document {'id': 'pokemon:38', 'payload': None, 'json': '{\"id\":38,\"name\":{\"english\":\"Ninetales\",\"japanese\":\"キュウコン\",\"chinese\":\"九尾\",\"french\":\"Feunard\"},\"type\":[\"Fire\"],\"base\":{\"HP\":73,\"Attack\":76,\"Defense\":75,\"Sp. Attack\":81,\"Sp. Defense\":100,\"Speed\":100}}'},\n",
       " Document {'id': 'pokemon:58', 'payload': None, 'json': '{\"id\":58,\"name\":{\"english\":\"Growlithe\",\"japanese\":\"ガーディ\",\"chinese\":\"卡蒂狗\",\"french\":\"Caninos\"},\"type\":[\"Fire\"],\"base\":{\"HP\":55,\"Attack\":70,\"Defense\":45,\"Sp. Attack\":70,\"Sp. Defense\":50,\"Speed\":60}}'},\n",
       " Document {'id': 'pokemon:59', 'payload': None, 'json': '{\"id\":59,\"name\":{\"english\":\"Arcanine\",\"japanese\":\"ウインディ\",\"chinese\":\"风速狗\",\"french\":\"Arcanin\"},\"type\":[\"Fire\"],\"base\":{\"HP\":90,\"Attack\":110,\"Defense\":80,\"Sp. Attack\":100,\"Sp. Defense\":80,\"Speed\":95}}'},\n",
       " Document {'id': 'pokemon:78', 'payload': None, 'json': '{\"id\":78,\"name\":{\"english\":\"Rapidash\",\"japanese\":\"ギャロップ\",\"chinese\":\"烈焰马\",\"french\":\"Galopa\"},\"type\":[\"Fire\"],\"base\":{\"HP\":65,\"Attack\":100,\"Defense\":70,\"Sp. Attack\":80,\"Sp. Defense\":80,\"Speed\":105}}'},\n",
       " Document {'id': 'pokemon:136', 'payload': None, 'json': '{\"id\":136,\"name\":{\"english\":\"Flareon\",\"japanese\":\"ブースター\",\"chinese\":\"火伊布\",\"french\":\"Pyroli\"},\"type\":[\"Fire\"],\"base\":{\"HP\":65,\"Attack\":130,\"Defense\":60,\"Sp. Attack\":95,\"Sp. Defense\":110,\"Speed\":65}}'},\n",
       " Document {'id': 'pokemon:146', 'payload': None, 'json': '{\"id\":146,\"name\":{\"english\":\"Moltres\",\"japanese\":\"ファイヤー\",\"chinese\":\"火焰鸟\",\"french\":\"Sulfura\"},\"type\":[\"Fire\",\"Flying\"],\"base\":{\"HP\":90,\"Attack\":100,\"Defense\":90,\"Sp. Attack\":125,\"Sp. Defense\":85,\"Speed\":90}}'}]"
      ]
     },
     "execution_count": 11,
     "metadata": {},
     "output_type": "execute_result"
    }
   ],
   "source": [
    "query = Query(\"@type:Fire\")\n",
    "r.ft(\"pokemon\").search(query).docs"
   ]
  },
  {
   "attachments": {},
   "cell_type": "markdown",
   "metadata": {},
   "source": [
    "La query per la ricerca di tutti i pokemon fuoco effettua una range query ritornando qualsiasi pokemon abbia il tipo \"Fire\" all'interno del campo \"Type\"."
   ]
  },
  {
   "attachments": {},
   "cell_type": "markdown",
   "metadata": {},
   "source": [
    "- Cerca i primi 10 pokemon che hanno un attacco compreso fra 50 e 100 (estremi inclusi)"
   ]
  },
  {
   "cell_type": "code",
   "execution_count": 12,
   "metadata": {},
   "outputs": [
    {
     "data": {
      "text/plain": [
       "[Document {'id': 'pokemon:2', 'payload': None, 'english': 'Ivysaur', 'att': '62'},\n",
       " Document {'id': 'pokemon:3', 'payload': None, 'english': 'Venusaur', 'att': '82'},\n",
       " Document {'id': 'pokemon:4', 'payload': None, 'english': 'Charmander', 'att': '52'},\n",
       " Document {'id': 'pokemon:5', 'payload': None, 'english': 'Charmeleon', 'att': '64'},\n",
       " Document {'id': 'pokemon:6', 'payload': None, 'english': 'Charizard', 'att': '84'},\n",
       " Document {'id': 'pokemon:8', 'payload': None, 'english': 'Wartortle', 'att': '63'},\n",
       " Document {'id': 'pokemon:9', 'payload': None, 'english': 'Blastoise', 'att': '83'},\n",
       " Document {'id': 'pokemon:15', 'payload': None, 'english': 'Beedrill', 'att': '90'},\n",
       " Document {'id': 'pokemon:17', 'payload': None, 'english': 'Pidgeotto', 'att': '60'},\n",
       " Document {'id': 'pokemon:18', 'payload': None, 'english': 'Pidgeot', 'att': '80'}]"
      ]
     },
     "execution_count": 12,
     "metadata": {},
     "output_type": "execute_result"
    }
   ],
   "source": [
    "query = Query(\"@att:[50 100]\").return_fields(\"english\", \"att\").paging(0, 10)\n",
    "r.ft(\"pokemon\").search(query).docs"
   ]
  },
  {
   "attachments": {},
   "cell_type": "markdown",
   "metadata": {},
   "source": [
    "La query definita consente di trovare i primi 10 pokemon (utilizzando il metodo .pagin(0, 10)) che hanno un attacco compreso fra 50 e 100 (Query(\"@att:[50 100]\")).\n",
    "Il metodo return:fields(\"english\", \"att\") è stato aggiunto per semplificare la lettura del risultato."
   ]
  },
  {
   "attachments": {},
   "cell_type": "markdown",
   "metadata": {},
   "source": [
    "- Trovare tutti i pokémon con difesa minore di 90 o di tipo “Fire”. Proiettare solo l’attacco, il nome in inglese e i tipi. Limitare i risultati da visualizzare a 10."
   ]
  },
  {
   "cell_type": "code",
   "execution_count": 20,
   "metadata": {},
   "outputs": [
    {
     "data": {
      "text/plain": [
       "[Document {'id': 'pokemon:4', 'payload': None, 'english': 'Charmander', 'type': '[\"Fire\"]', 'def': '43'},\n",
       " Document {'id': 'pokemon:5', 'payload': None, 'english': 'Charmeleon', 'type': '[\"Fire\"]', 'def': '58'},\n",
       " Document {'id': 'pokemon:6', 'payload': None, 'english': 'Charizard', 'type': '[\"Fire\",\"Flying\"]', 'def': '78'},\n",
       " Document {'id': 'pokemon:37', 'payload': None, 'english': 'Vulpix', 'type': '[\"Fire\"]', 'def': '40'},\n",
       " Document {'id': 'pokemon:38', 'payload': None, 'english': 'Ninetales', 'type': '[\"Fire\"]', 'def': '75'},\n",
       " Document {'id': 'pokemon:58', 'payload': None, 'english': 'Growlithe', 'type': '[\"Fire\"]', 'def': '45'},\n",
       " Document {'id': 'pokemon:59', 'payload': None, 'english': 'Arcanine', 'type': '[\"Fire\"]', 'def': '80'},\n",
       " Document {'id': 'pokemon:78', 'payload': None, 'english': 'Rapidash', 'type': '[\"Fire\"]', 'def': '70'},\n",
       " Document {'id': 'pokemon:136', 'payload': None, 'english': 'Flareon', 'type': '[\"Fire\"]', 'def': '60'},\n",
       " Document {'id': 'pokemon:146', 'payload': None, 'english': 'Moltres', 'type': '[\"Fire\",\"Flying\"]', 'def': '90'}]"
      ]
     },
     "execution_count": 20,
     "metadata": {},
     "output_type": "execute_result"
    }
   ],
   "source": [
    "query = Query(\"@def:[0 90] | @type:Fire\").return_fields(\"english\", \"type\", \"att\").paging(0, 10)\n",
    "r.ft(\"pokemon\").search(query).docs"
   ]
  },
  {
   "attachments": {},
   "cell_type": "markdown",
   "metadata": {},
   "source": [
    "Questa query ritorna tutti i pokemon che hanno difesa compresa tra 0 e 90 O (inserendo l'operatore logico | (OR) e scrivendo all'interno dei valori del metodo Query due condizioni) che sono fuoco.\n",
    "I campi dei risultati vengono limitati a \"english\", \"type\" e \"att\" e vengono mostrati i primi 10 elementi.\n",
    "\n",
    "Si può evincere nei risultati di questa query che i documenti non sono ordinati e sono tutti pokemon di tipo fuoco:\n",
    "- I risultati non sono ordinati poiché i documenti restituiti da una query non viene garantito che siano ordinati nell'ordine in cui sono stati inseriti nell'indice;\n",
    "- i risultati sono tutti di tipo fuoco perché i primi 10 documenti ritornati sono tutti di tipo fuoco ma ampliando i risultati, quindi eliminando il vincolo \".paging(0, 10), si hanno tutti i documenti che soddisfano tali criteri."
   ]
  },
  {
   "attachments": {},
   "cell_type": "markdown",
   "metadata": {},
   "source": [
    "- Trovare la media dei valori di Attacco per tutti i tipi"
   ]
  },
  {
   "cell_type": "code",
   "execution_count": 14,
   "metadata": {},
   "outputs": [
    {
     "data": {
      "text/plain": [
       "[['type', '[\"Bug\",\"Poison\"]', '__generated_aliasavgatt', '60.9090909091'],\n",
       " ['type', '[\"Electric\",\"Flying\"]', '__generated_aliasavgatt', '93.3333333333'],\n",
       " ['type', '[\"Normal\",\"Flying\"]', '__generated_aliasavgatt', '76.0769230769'],\n",
       " ['type', '[\"Electric\",\"Fairy\"]', '__generated_aliasavgatt', '86.5'],\n",
       " ['type', '[\"Fire\"]', '__generated_aliasavgatt', '78.2'],\n",
       " ['type', '[\"Fighting\",\"Psychic\"]', '__generated_aliasavgatt', '50'],\n",
       " ['type', '[\"Ghost\",\"Ground\"]', '__generated_aliasavgatt', '65'],\n",
       " ['type', '[\"Fighting\",\"Ghost\"]', '__generated_aliasavgatt', '125'],\n",
       " ['type', '[\"Psychic\",\"Fire\"]', '__generated_aliasavgatt', '100'],\n",
       " ['type', '[\"Water\",\"Ground\"]', '__generated_aliasavgatt', '77.1111111111'],\n",
       " ['type', '[\"Grass\",\"Dark\"]', '__generated_aliasavgatt', '95'],\n",
       " ['type', '[\"Ice\",\"Water\"]', '__generated_aliasavgatt', '60'],\n",
       " ['type', '[\"Steel\",\"Psychic\"]', '__generated_aliasavgatt', '79.6666666667'],\n",
       " ['type', '[\"Fire\",\"Normal\"]', '__generated_aliasavgatt', '59'],\n",
       " ['type', '[\"Dark\",\"Steel\"]', '__generated_aliasavgatt', '105'],\n",
       " ['type', '[\"Fairy\",\"Flying\"]', '__generated_aliasavgatt', '45'],\n",
       " ['type', '[\"Rock\",\"Flying\"]', '__generated_aliasavgatt', '104.25'],\n",
       " ['type', '[\"Psychic\",\"Flying\"]', '__generated_aliasavgatt', '62.5'],\n",
       " ['type', '[\"Ice\",\"Ghost\"]', '__generated_aliasavgatt', '80'],\n",
       " ['type', '[\"Rock\",\"Dragon\"]', '__generated_aliasavgatt', '105'],\n",
       " ['type', '[\"Dragon\",\"Flying\"]', '__generated_aliasavgatt', '122.25'],\n",
       " ['type', '[\"Steel\",\"Dragon\"]', '__generated_aliasavgatt', '120'],\n",
       " ['type', '[\"Bug\",\"Ghost\"]', '__generated_aliasavgatt', '90'],\n",
       " ['type', '[\"Water\",\"Rock\"]', '__generated_aliasavgatt', '82.75'],\n",
       " ['type', '[\"Ghost\",\"Fairy\"]', '__generated_aliasavgatt', '90'],\n",
       " ['type', '[\"Dark\",\"Ice\"]', '__generated_aliasavgatt', '107.5'],\n",
       " ['type', '[\"Fire\",\"Steel\"]', '__generated_aliasavgatt', '90'],\n",
       " ['type', '[\"Ground\",\"Steel\"]', '__generated_aliasavgatt', '135'],\n",
       " ['type', '[\"Grass\",\"Psychic\"]', '__generated_aliasavgatt', '67.5'],\n",
       " ['type', '[\"Fire\",\"Fighting\"]', '__generated_aliasavgatt', '100.5'],\n",
       " ['type', '[\"Grass\",\"Fighting\"]', '__generated_aliasavgatt', '109'],\n",
       " ['type', '[\"Fighting\",\"Ice\"]', '__generated_aliasavgatt', '132'],\n",
       " ['type', '[\"Ice\",\"Ground\"]', '__generated_aliasavgatt', '93.3333333333'],\n",
       " ['type', '[\"Water\",\"Fighting\"]', '__generated_aliasavgatt', '83.5'],\n",
       " ['type', '[\"Steel\"]', '__generated_aliasavgatt', '86.3333333333'],\n",
       " ['type', '[\"Dragon\",\"Fire\"]', '__generated_aliasavgatt', '120'],\n",
       " ['type', '[\"Normal\",\"Fighting\"]', '__generated_aliasavgatt', '100'],\n",
       " ['type', '[\"Dark\",\"Psychic\"]', '__generated_aliasavgatt', '73'],\n",
       " ['type', '[\"Grass\"]', '__generated_aliasavgatt', '68.9736842105'],\n",
       " ['type', '[\"Poison\",\"Dragon\"]', '__generated_aliasavgatt', '74'],\n",
       " ['type', '[\"Rock\",\"Grass\"]', '__generated_aliasavgatt', '61'],\n",
       " ['type', '[\"Dark\",\"Fire\"]', '__generated_aliasavgatt', '75'],\n",
       " ['type', '[\"Steel\",\"Ghost\"]', '__generated_aliasavgatt', '80'],\n",
       " ['type', '[\"Normal\",\"Psychic\"]', '__generated_aliasavgatt', '72.3333333333'],\n",
       " ['type', '[\"Dragon\",\"Ice\"]', '__generated_aliasavgatt', '130'],\n",
       " ['type', '[\"Steel\",\"Rock\"]', '__generated_aliasavgatt', '90'],\n",
       " ['type', '[\"Dragon\",\"Fighting\"]', '__generated_aliasavgatt', '92.5'],\n",
       " ['type', '[\"Dark\",\"Ghost\"]', '__generated_aliasavgatt', '75'],\n",
       " ['type', '[\"Psychic\",\"Fairy\"]', '__generated_aliasavgatt', '46.6666666667'],\n",
       " ['type', '[\"Bug\",\"Fire\"]', '__generated_aliasavgatt', '72.5'],\n",
       " ['type', '[\"Dragon\"]', '__generated_aliasavgatt', '89.0833333333'],\n",
       " ['type', '[\"Ice\"]', '__generated_aliasavgatt', '73.8333333333'],\n",
       " ['type', '[\"Water\"]', '__generated_aliasavgatt', '68.6557377049'],\n",
       " ['type', '[\"Psychic\",\"Ghost\"]', '__generated_aliasavgatt', '111.5'],\n",
       " ['type', '[\"Fighting\",\"Flying\"]', '__generated_aliasavgatt', '92'],\n",
       " ['type', '[\"Bug\",\"Water\"]', '__generated_aliasavgatt', '63.3333333333'],\n",
       " ['type', '[\"Water\",\"Steel\"]', '__generated_aliasavgatt', '86'],\n",
       " ['type', '[\"Ground\",\"Dragon\"]', '__generated_aliasavgatt', '85'],\n",
       " ['type', '[\"Steel\",\"Flying\"]', '__generated_aliasavgatt', '90.5'],\n",
       " ['type', '[\"Poison\"]', '__generated_aliasavgatt', '72.9375'],\n",
       " ['type', '[\"Ghost\",\"Dark\"]', '__generated_aliasavgatt', '92'],\n",
       " ['type', '[\"Water\",\"Grass\"]', '__generated_aliasavgatt', '50'],\n",
       " ['type', '[\"Dragon\",\"Ground\"]', '__generated_aliasavgatt', '97.5'],\n",
       " ['type', '[\"Grass\",\"Fairy\"]', '__generated_aliasavgatt', '60.8'],\n",
       " ['type', '[\"Water\",\"Ice\"]', '__generated_aliasavgatt', '83.3333333333'],\n",
       " ['type', '[\"Fire\",\"Rock\"]', '__generated_aliasavgatt', '50'],\n",
       " ['type', '[\"Water\",\"Dragon\"]', '__generated_aliasavgatt', '107.5'],\n",
       " ['type', '[\"Rock\",\"Water\"]', '__generated_aliasavgatt', '75.3333333333'],\n",
       " ['type', '[\"Dark\",\"Flying\"]', '__generated_aliasavgatt', '92.2'],\n",
       " ['type', '[\"Poison\",\"Bug\"]', '__generated_aliasavgatt', '50'],\n",
       " ['type', '[\"Water\",\"Dark\"]', '__generated_aliasavgatt', '106.25'],\n",
       " ['type', '[\"Fire\",\"Dragon\"]', '__generated_aliasavgatt', '78'],\n",
       " ['type', '[\"Fairy\"]', '__generated_aliasavgatt', '63'],\n",
       " ['type', '[\"Bug\",\"Electric\"]', '__generated_aliasavgatt', '69'],\n",
       " ['type', '[\"Grass\",\"Ice\"]', '__generated_aliasavgatt', '77'],\n",
       " ['type', '[\"Ice\",\"Psychic\"]', '__generated_aliasavgatt', '40'],\n",
       " ['type', '[\"Ground\",\"Ghost\"]', '__generated_aliasavgatt', '99'],\n",
       " ['type', '[\"Ghost\",\"Flying\"]', '__generated_aliasavgatt', '65'],\n",
       " ['type', '[\"Ghost\",\"Dragon\"]', '__generated_aliasavgatt', '100'],\n",
       " ['type', '[\"Ghost\",\"Fire\"]', '__generated_aliasavgatt', '41.6666666667'],\n",
       " ['type', '[\"Fighting\",\"Dark\"]', '__generated_aliasavgatt', '124'],\n",
       " ['type', '[\"Fire\",\"Flying\"]', '__generated_aliasavgatt', '89.6666666667'],\n",
       " ['type', '[\"Fighting\",\"Steel\"]', '__generated_aliasavgatt', '110'],\n",
       " ['type', '[\"Water\",\"Bug\"]', '__generated_aliasavgatt', '55'],\n",
       " ['type', '[\"Rock\",\"Ground\"]', '__generated_aliasavgatt', '81.3333333333'],\n",
       " ['type', '[\"Psychic\",\"Grass\"]', '__generated_aliasavgatt', '100'],\n",
       " ['type', '[\"Fire\",\"Psychic\"]', '__generated_aliasavgatt', '69'],\n",
       " ['type', '[\"Normal\",\"Dragon\"]', '__generated_aliasavgatt', '60'],\n",
       " ['type', '[\"Fire\",\"Ghost\"]', '__generated_aliasavgatt', '127'],\n",
       " ['type', '[\"Normal\",\"Water\"]', '__generated_aliasavgatt', '85'],\n",
       " ['type', '[\"Electric\"]', '__generated_aliasavgatt', '71.25'],\n",
       " ['type', '[\"Ghost\",\"Grass\"]', '__generated_aliasavgatt', '95.4'],\n",
       " ['type', '[\"Steel\",\"Ground\"]', '__generated_aliasavgatt', '85'],\n",
       " ['type', '[\"Bug\",\"Fairy\"]', '__generated_aliasavgatt', '50'],\n",
       " ['type', '[\"Dark\"]', '__generated_aliasavgatt', '82'],\n",
       " ['type', '[\"Bug\",\"Rock\"]', '__generated_aliasavgatt', '60'],\n",
       " ['type', '[\"Rock\",\"Ice\"]', '__generated_aliasavgatt', '68'],\n",
       " ['type', '[\"Steel\",\"Fighting\"]', '__generated_aliasavgatt', '90'],\n",
       " ['type', '[\"Bug\",\"Steel\"]', '__generated_aliasavgatt', '116.8'],\n",
       " ['type', '[\"Fire\",\"Water\"]', '__generated_aliasavgatt', '110'],\n",
       " ['type', '[\"Grass\",\"Ghost\"]', '__generated_aliasavgatt', '107'],\n",
       " ['type', '[\"Water\",\"Electric\"]', '__generated_aliasavgatt', '48'],\n",
       " ['type', '[\"Ground\",\"Flying\"]', '__generated_aliasavgatt', '98.3333333333'],\n",
       " ['type', '[\"Bug\",\"Ground\"]', '__generated_aliasavgatt', '45'],\n",
       " ['type', '[\"Fire\",\"Dark\"]', '__generated_aliasavgatt', '115'],\n",
       " ['type', '[\"Ground\",\"Electric\"]', '__generated_aliasavgatt', '66'],\n",
       " ['type', '[\"Ghost\"]', '__generated_aliasavgatt', '66.6666666667'],\n",
       " ['type', '[\"Rock\",\"Bug\"]', '__generated_aliasavgatt', '110'],\n",
       " ['type', '[\"Normal\",\"Fairy\"]', '__generated_aliasavgatt', '41.25'],\n",
       " ['type', '[\"Water\",\"Poison\"]', '__generated_aliasavgatt', '68.3333333333'],\n",
       " ['type', '[\"Bug\",\"Fighting\"]', '__generated_aliasavgatt', '133.666666667'],\n",
       " ['type', '[\"Fire\",\"Ground\"]', '__generated_aliasavgatt', '80'],\n",
       " ['type', '[\"Water\",\"Psychic\"]', '__generated_aliasavgatt', '79'],\n",
       " ['type', '[\"Grass\",\"Poison\"]', '__generated_aliasavgatt', '68.4285714286'],\n",
       " ['type', '[\"Ghost\",\"Poison\"]', '__generated_aliasavgatt', '50'],\n",
       " ['type', '[\"Electric\",\"Normal\"]', '__generated_aliasavgatt', '46.5'],\n",
       " ['type', '[\"Poison\",\"Water\"]', '__generated_aliasavgatt', '58.6666666667'],\n",
       " ['type', '[\"Poison\",\"Fire\"]', '__generated_aliasavgatt', '54'],\n",
       " ['type', '[\"Poison\",\"Flying\"]', '__generated_aliasavgatt', '71.6666666667'],\n",
       " ['type', '[\"Dragon\",\"Electric\"]', '__generated_aliasavgatt', '150'],\n",
       " ['type', '[\"Rock\",\"Fairy\"]', '__generated_aliasavgatt', '75'],\n",
       " ['type', '[\"Water\",\"Fairy\"]', '__generated_aliasavgatt', '54.75'],\n",
       " ['type', '[\"Poison\",\"Fighting\"]', '__generated_aliasavgatt', '83.5'],\n",
       " ['type', '[\"Psychic\",\"Fighting\"]', '__generated_aliasavgatt', '125'],\n",
       " ['type', '[\"Normal\"]', '__generated_aliasavgatt', '74.7692307692'],\n",
       " ['type', '[\"Grass\",\"Flying\"]', '__generated_aliasavgatt', '55.5'],\n",
       " ['type', '[\"Poison\",\"Ground\"]', '__generated_aliasavgatt', '97'],\n",
       " ['type', '[\"Dark\",\"Fighting\"]', '__generated_aliasavgatt', '82.5'],\n",
       " ['type', '[\"Psychic\",\"Steel\"]', '__generated_aliasavgatt', '137'],\n",
       " ['type', '[\"Fighting\"]', '__generated_aliasavgatt', '97.4545454545'],\n",
       " ['type', '[\"Ground\",\"Rock\"]', '__generated_aliasavgatt', '118.333333333'],\n",
       " ['type', '[\"Poison\",\"Dark\"]', '__generated_aliasavgatt', '82'],\n",
       " ['type', '[\"Ground\",\"Dark\"]', '__generated_aliasavgatt', '90.3333333333'],\n",
       " ['type', '[\"Rock\",\"Psychic\"]', '__generated_aliasavgatt', '75'],\n",
       " ['type', '[\"Normal\",\"Grass\"]', '__generated_aliasavgatt', '80'],\n",
       " ['type', '[\"Bug\"]', '__generated_aliasavgatt', '51'],\n",
       " ['type', '[\"Ice\",\"Flying\"]', '__generated_aliasavgatt', '70'],\n",
       " ['type', '[\"Bug\",\"Grass\"]', '__generated_aliasavgatt', '73.8333333333'],\n",
       " ['type', '[\"Psychic\"]', '__generated_aliasavgatt', '58.2857142857'],\n",
       " ['type', '[\"Ground\",\"Psychic\"]', '__generated_aliasavgatt', '55'],\n",
       " ['type', '[\"Flying\",\"Dragon\"]', '__generated_aliasavgatt', '50'],\n",
       " ['type', '[\"Grass\",\"Ground\"]', '__generated_aliasavgatt', '109'],\n",
       " ['type', '[\"Dark\",\"Dragon\"]', '__generated_aliasavgatt', '89'],\n",
       " ['type', '[\"Water\",\"Flying\"]', '__generated_aliasavgatt', '56.5714285714'],\n",
       " ['type', '[\"Rock\",\"Poison\"]', '__generated_aliasavgatt', '53'],\n",
       " ['type', '[\"Ground\"]', '__generated_aliasavgatt', '92.2666666667'],\n",
       " ['type', '[\"Rock\"]', '__generated_aliasavgatt', '100.909090909'],\n",
       " ['type', '[\"Electric\",\"Steel\"]', '__generated_aliasavgatt', '65.75'],\n",
       " ['type', '[\"Electric\",\"Ghost\"]', '__generated_aliasavgatt', '50'],\n",
       " ['type', '[\"Rock\",\"Dark\"]', '__generated_aliasavgatt', '134'],\n",
       " ['type', '[\"Flying\"]', '__generated_aliasavgatt', '115'],\n",
       " ['type', '[\"Dragon\",\"Psychic\"]', '__generated_aliasavgatt', '85'],\n",
       " ['type', '[\"Steel\",\"Fairy\"]', '__generated_aliasavgatt', '86.6666666667'],\n",
       " ['type', '[\"Water\",\"Ghost\"]', '__generated_aliasavgatt', '50'],\n",
       " ['type', '[\"Grass\",\"Steel\"]', '__generated_aliasavgatt', '108.333333333'],\n",
       " ['type', '[\"Rock\",\"Steel\"]', '__generated_aliasavgatt', '70'],\n",
       " ['type', '[\"Normal\",\"Ground\"]', '__generated_aliasavgatt', '56'],\n",
       " ['type', '[\"Rock\",\"Fighting\"]', '__generated_aliasavgatt', '129'],\n",
       " ['type', '[\"Bug\",\"Flying\"]', '__generated_aliasavgatt', '63.6153846154']]"
      ]
     },
     "execution_count": 14,
     "metadata": {},
     "output_type": "execute_result"
    }
   ],
   "source": [
    "req = aggregations.AggregateRequest().group_by(\"@type\", reducers.avg(\"@att\"))\n",
    "r.ft(\"pokemon\").aggregate(req).rows"
   ]
  },
  {
   "attachments": {},
   "cell_type": "markdown",
   "metadata": {},
   "source": [
    "Questa è una query di aggregazione, questo permette di raggruppare tutti i valori in base ad un determinato campo (in questo caso \"Type\") per poi poter eseguire un'operazione su tutti i valori che hanno il campo uguale (in questo caso la media sull'attacco 'reducers.avg(\"@att\")')."
   ]
  },
  {
   "attachments": {},
   "cell_type": "markdown",
   "metadata": {},
   "source": [
    "### Analisi delle tempistiche delle Query\n",
    "Per l'analisi delle tempistiche su Redis, tramite le modalità da noi eseguite, ci sono due opzioni:\n",
    "\n",
    "1) Utilizzando la libreria Time importandola semplicemente aggiungendo: import time;\n",
    "2) Utilizzando l'interfaccia di Redis su browser dove vi è la possibilità di scrivere query e uno dei dati mostrati è il tempo di esecuzione delle query.\n",
    "\n",
    "Tutti i tempi forniti sono in secondi.\n",
    "Il tempo risultante è uguale sia che si utilizzi la prima opzione sia che si utilizzi la seconda."
   ]
  },
  {
   "attachments": {},
   "cell_type": "markdown",
   "metadata": {},
   "source": [
    "#### Prima Query"
   ]
  },
  {
   "cell_type": "code",
   "execution_count": 15,
   "metadata": {},
   "outputs": [
    {
     "name": "stdout",
     "output_type": "stream",
     "text": [
      "0.0008022785186767578\n"
     ]
    }
   ],
   "source": [
    "start = time.time()\n",
    "r.ft(\"pokemon\").search(\"Pika*\")\n",
    "end = time.time()\n",
    "print(end - start)"
   ]
  },
  {
   "attachments": {},
   "cell_type": "markdown",
   "metadata": {},
   "source": [
    "#### Seconda Query"
   ]
  },
  {
   "cell_type": "code",
   "execution_count": 16,
   "metadata": {},
   "outputs": [
    {
     "name": "stdout",
     "output_type": "stream",
     "text": [
      "0.0016789436340332031\n"
     ]
    }
   ],
   "source": [
    "start = time.time()\n",
    "query = Query(\"@type:Fire\")\n",
    "r.ft(\"pokemon\").search(query)\n",
    "end = time.time()\n",
    "print(end - start)"
   ]
  },
  {
   "attachments": {},
   "cell_type": "markdown",
   "metadata": {},
   "source": [
    "#### Terza Query"
   ]
  },
  {
   "cell_type": "code",
   "execution_count": 17,
   "metadata": {},
   "outputs": [
    {
     "name": "stdout",
     "output_type": "stream",
     "text": [
      "0.0021295547485351562\n"
     ]
    }
   ],
   "source": [
    "start = time.time()\n",
    "query = Query(\"@att:[50 100]\").return_fields(\"english\", \"att\").paging(0, 10)\n",
    "r.ft(\"pokemon\").search(query)\n",
    "end = time.time()\n",
    "print(end - start)"
   ]
  },
  {
   "attachments": {},
   "cell_type": "markdown",
   "metadata": {},
   "source": [
    "#### Quarta Query"
   ]
  },
  {
   "cell_type": "code",
   "execution_count": 18,
   "metadata": {},
   "outputs": [
    {
     "name": "stdout",
     "output_type": "stream",
     "text": [
      "0.002586841583251953\n"
     ]
    }
   ],
   "source": [
    "start = time.time()\n",
    "query = Query(\"@def:[0 90] | @type:Fire\").return_fields(\"english\", \"type\", \"att\").paging(0, 10)\n",
    "r.ft(\"pokemon\").search(query)\n",
    "end = time.time()\n",
    "print(end - start)"
   ]
  },
  {
   "attachments": {},
   "cell_type": "markdown",
   "metadata": {},
   "source": [
    "#### Quinta Query"
   ]
  },
  {
   "cell_type": "code",
   "execution_count": 19,
   "metadata": {},
   "outputs": [
    {
     "name": "stdout",
     "output_type": "stream",
     "text": [
      "0.010340690612792969\n"
     ]
    }
   ],
   "source": [
    "start = time.time()\n",
    "req = aggregations.AggregateRequest().group_by(\"@type\", reducers.avg(\"@att\"))\n",
    "r.ft(\"pokemon\").aggregate(req)\n",
    "end = time.time()\n",
    "print(end - start)"
   ]
  },
  {
   "attachments": {},
   "cell_type": "markdown",
   "metadata": {},
   "source": [
    "I valori decimali mostrati al di sotto alle sezioni di codice sono il tempo di esecuzione delle query. Le query sono quelle sopra spiegate e riproposte con l'aggiunta delle funzioni relative al tempo.\n",
    "\n",
    "Redis è un DBMS ad alte prestazioni come si può denotare dalle tempistiche di esecuzione dove sono tutte nell'ordine di millesimi di secondo:\n",
    "\n",
    "- La query meno onerosa è la prima dove si cercano i pokemon che contengono \"Pika\" nel nome con un tempi di esecuzione di 0.0017 secondi;\n",
    "\n",
    "- La query più onerosa è la quinta dove vengono eseguite le aggregazioni dove si ha un tempo di esecuzione di 0.0074 secondi all'interno di un database contenente 809 elementi;\n",
    "\n",
    "- Tutte le altre query hanno un tempo di esecuzione simile compreso tra 0.0024 e 0.0026 secondi.\n"
   ]
  },
  {
   "attachments": {},
   "cell_type": "markdown",
   "metadata": {},
   "source": [
    "### Possibili Miglioramenti\n",
    "Così come per i molti db non relazionali, Redis permette una scalabilità di tipo orizzontale, creando varie repliche all'interno del cluster del DB.\n",
    "\n",
    "Questa tipologia di scaling è molto onerosa e comporta nel tempo all'acquisto di macchine sempre più potenti per sopperire alla necessità di aumentare il numero di repliche.\n",
    "\n",
    "Seguendo questo problema sono stati creati e resi disponibili molte varianti (chi più chi meno) del DBMS da noi scelto, uno di questi progetti è [Cachegrand](https://github.com/danielealbano/cachegrand), uno dei più veloci in-memory key-value database al momento disponibili sul mercato, creata e studiata dal basso, sfruttando al massimo le capacità hardware attuali.\n",
    "\n",
    "Compatibilità con Redis è uno dei punti di forza, ma il maggiore (come si vedrà nei benchmark qui sotto) sono le performance.\n",
    "Alcune features principali (anche elencate sul repo di github) sono:\n",
    "- Support al Protocollo Redis\n",
    "- Una Hashtable capace di valutare fino a 2.1 Miliardi di record al secondo (CPU in uso per il benchmark AMD EPYC 7502)\n",
    "- Un FFMA o Fast Fixed Memory Allocator che permette di allocare e liberare la memoria in O(1)\n",
    "- Scalabilità verticale, 2x CPU sono circa 2x richieste al secondo\n",
    "\n",
    "<div>\n",
    "<img src=\"https://raw.githubusercontent.com/cachegrand/cachegrand-benchmarks/main/images/latest-benchmarks-get-set.png\" width=\"700\"/>\n",
    "</div>\n",
    "Benchmark sul Get e Set\n",
    "<div>\n",
    "<img src=\"https://raw.githubusercontent.com/cachegrand/cachegrand-benchmarks/main/images/latest-benchmarks-get-set-pipelining.png\" width=\"700\">\n",
    "\n",
    "Benchmark sul Get e Set in pipeline"
   ]
  },
  {
   "attachments": {},
   "cell_type": "markdown",
   "metadata": {},
   "source": [
    "# Contributors\n",
    "Lorenzo Emanuele Avallone 866163\\\n",
    "Mattia Signorelli 852347"
   ]
  }
 ],
 "metadata": {
  "kernelspec": {
   "display_name": "Python 3",
   "language": "python",
   "name": "python3"
  },
  "language_info": {
   "codemirror_mode": {
    "name": "ipython",
    "version": 3
   },
   "file_extension": ".py",
   "mimetype": "text/x-python",
   "name": "python",
   "nbconvert_exporter": "python",
   "pygments_lexer": "ipython3",
   "version": "3.10.6"
  },
  "orig_nbformat": 4
 },
 "nbformat": 4,
 "nbformat_minor": 2
}
