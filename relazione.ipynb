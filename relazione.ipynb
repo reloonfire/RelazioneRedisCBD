{
 "cells": [
  {
   "attachments": {},
   "cell_type": "markdown",
   "metadata": {},
   "source": [
    "# Introduzione a Redis"
   ]
  },
  {
   "attachments": {},
   "cell_type": "markdown",
   "metadata": {},
   "source": [
    "## Nozioni Base\n",
    "Redis is an open source (BSD licensed), in-memory data structure store used as a database, cache, message broker, and streaming engine. Redis provides data structures such as strings, hashes, lists, sets, sorted sets with range queries, bitmaps, hyperloglogs, geospatial indexes, and streams. Redis has built-in replication, Lua scripting, LRU eviction, transactions, and different levels of on-disk persistence, and provides high availability via Redis Sentinel and automatic partitioning with Redis Cluster.\n",
    "\n",
    "You can run atomic operations on these types, like appending to a string; incrementing the value in a hash; pushing an element to a list; computing set intersection, union and difference; or getting the member with highest ranking in a sorted set.\n",
    "\n",
    "To achieve top performance, Redis works with an in-memory dataset. Depending on your use case, Redis can persist your data either by periodically dumping the dataset to disk or by appending each command to a disk-based log. You can also disable persistence if you just need a feature-rich, networked, in-memory cache.\n",
    "\n",
    "Redis supports asynchronous replication, with fast non-blocking synchronization and auto-reconnection with partial resynchronization on net split.\n",
    "\n",
    "Redis also includes:\n",
    "- Transactions\n",
    "- Pub/Sub\n",
    "- Lua scripting\n",
    "- Keys with a limited time-to-live\n",
    "- LRU eviction of keys\n",
    "- Automatic failover\n",
    "You can use Redis from most programming languages.\n",
    "\n",
    "Redis is written in ANSI C and works on most POSIX systems like Linux, *BSD, and Mac OS X, without external dependencies. Linux and OS X are the two operating systems where Redis is developed and tested the most, and we recommend using Linux for deployment. Redis may work in Solaris-derived systems like SmartOS, but support is best effort. There is no official support for Windows builds."
   ]
  },
  {
   "attachments": {},
   "cell_type": "markdown",
   "metadata": {},
   "source": [
    "## Chi usa Redis?\n",
    "Le compagnie più note che usano Redis sono:\n",
    "- Twitter\n",
    "- Github\n",
    "- Snapchat\n",
    "- Cragslist\n",
    "- StackOverflow\n",
    "\n",
    "E molte altre ancora."
   ]
  },
  {
   "attachments": {},
   "cell_type": "markdown",
   "metadata": {},
   "source": [
    "## Installazione\n",
    "### Windows\n",
    "Redis non è supportato su Windows, ma si può installare sfruttando la WSL2 (Windows Subsystem for Linux).\n",
    "Con una shell WSL correttamente inizializzata si potranno seguire gli step di installazione su macchina Ubuntu/Debian per installare l'ultima versione di Redis.\n",
    "\n",
    "```bash\n",
    "curl -fsSL https://packages.redis.io/gpg | sudo gpg --dearmor -o /usr/share/keyrings/redis-archive-keyring.gpg\n",
    "\n",
    "echo \"deb [signed-by=/usr/share/keyrings/redis-archive-keyring.gpg] https://packages.redis.io/deb $(lsb_release -cs) main\" | sudo tee /etc/apt/sources.list.d/redis.list\n",
    "\n",
    "sudo apt-get update\n",
    "sudo apt-get install redis\n",
    "```\n",
    "\n",
    "E per avviare il servizio basterà lanciare il comando:\n",
    "```bash\n",
    "sudo service redis-server start\n",
    "```"
   ]
  },
  {
   "attachments": {},
   "cell_type": "markdown",
   "metadata": {},
   "source": [
    "### Linux\n",
    "Avendo in commercio una gran quantità di distribuzioni Linux, ogni package manager di riferimento ha una guida su come installare il pacchetto Redis.\n",
    "Come spiegato nel capitolo per Windows, su sistemi Debian/Ubuntu possiamo aggiungere il Repository APT Ufficiale `packages.redis.io` e installare successivamente il pacchetto:\n",
    "```bash\n",
    "curl -fsSL https://packages.redis.io/gpg | sudo gpg --dearmor -o /usr/share/keyrings/redis-archive-keyring.gpg\n",
    "\n",
    "echo \"deb [signed-by=/usr/share/keyrings/redis-archive-keyring.gpg] https://packages.redis.io/deb $(lsb_release -cs) main\" | sudo tee /etc/apt/sources.list.d/redis.list\n",
    "\n",
    "sudo apt-get update\n",
    "sudo apt-get install redis\n",
    "```\n",
    "\n",
    "Alternativamente possiamo sfruttare il pacchetto Redis disponibile sullo Snapcraft Store e installarlo su tutte le distribuzioni che lo supportano:\n",
    "\n",
    "```bash\n",
    "sudo snap install redis\n",
    "```"
   ]
  },
  {
   "attachments": {},
   "cell_type": "markdown",
   "metadata": {},
   "source": [
    "### MacOS\n",
    "Per installare il pacchetto Redis su dispositivi macOS, sarà necessario in prima battuta installare Brew, un package manager creato per il Sistema Operativo di Cupertino.\n",
    "Una volta installato correttamente si dovrà semplicemente lanciare il comando:\n",
    "```bash\n",
    "brew install redis\n",
    "```\n",
    "\n",
    "Per avviare il servizio si dovrà usare:\n",
    "```bash\n",
    "redis-server\n",
    "```\n",
    "\n",
    "Per fermare il servizio andrà premuto `CTRL-C`"
   ]
  },
  {
   "attachments": {},
   "cell_type": "markdown",
   "metadata": {},
   "source": [
    "## Pro e Contro"
   ]
  },
  {
   "attachments": {},
   "cell_type": "markdown",
   "metadata": {},
   "source": [
    "## Librerie del DBMS\n",
    "Quasi tutti i linguaggi di programmazione hanno disponibile un porting per connettersi al servizio Redis, lavorando con Python andremo nel dettaglio di quest'ultima.\n",
    "### redis-py\n",
    "**Installazione**\n",
    "\n",
    "Per installare redis-py:\n",
    "```bash\n",
    "pip install redis-py\n",
    "```\n",
    "\n",
    "Per migliorare le performance si può utilizzare installa il pacchetto con il supporto ad `hiredis`, che offre un Response Parser compilato, che per molte situazioni richiede 0 modifiche.\n",
    "\n",
    "```bash\n",
    "pip install redis[hiredis]\n",
    "```"
   ]
  },
  {
   "cell_type": "code",
   "execution_count": null,
   "metadata": {},
   "outputs": [],
   "source": [
    "import sys\n",
    "!{sys.executable} -m pip install redis"
   ]
  },
  {
   "attachments": {},
   "cell_type": "markdown",
   "metadata": {},
   "source": [
    "## Creazione e Connessione al DB\n",
    "Per facilitare lo sviluppo su più sistemi operativi, questo progetto dispone di un docker-compose.yml file, contenente il necessario per avviare un'istanza redis con due User Interfaces, quali `redis-cli` e `RedisInsight`.\n",
    "\n",
    "Per avviare il servizio si può lanciare il comando:\n",
    "```bash\n",
    "make start\n",
    "```"
   ]
  },
  {
   "attachments": {},
   "cell_type": "markdown",
   "metadata": {},
   "source": [
    "### Connessione al DB tramite redis-py"
   ]
  },
  {
   "cell_type": "code",
   "execution_count": 15,
   "metadata": {},
   "outputs": [],
   "source": [
    "import redis\n",
    "\n",
    "r = redis.Redis(host='localhost', port=6379, decode_responses=True)"
   ]
  },
  {
   "attachments": {},
   "cell_type": "markdown",
   "metadata": {},
   "source": [
    "Prove comandi"
   ]
  },
  {
   "cell_type": "code",
   "execution_count": 16,
   "metadata": {},
   "outputs": [
    {
     "data": {
      "text/plain": [
       "True"
      ]
     },
     "execution_count": 16,
     "metadata": {},
     "output_type": "execute_result"
    }
   ],
   "source": [
    "r.set('nome', 'Marco')"
   ]
  },
  {
   "cell_type": "code",
   "execution_count": 17,
   "metadata": {},
   "outputs": [
    {
     "data": {
      "text/plain": [
       "'Marco'"
      ]
     },
     "execution_count": 17,
     "metadata": {},
     "output_type": "execute_result"
    }
   ],
   "source": [
    "r.get('nome')"
   ]
  },
  {
   "cell_type": "code",
   "execution_count": 18,
   "metadata": {},
   "outputs": [
    {
     "data": {
      "text/plain": [
       "0"
      ]
     },
     "execution_count": 18,
     "metadata": {},
     "output_type": "execute_result"
    }
   ],
   "source": [
    "r.hset('user-session:123', mapping={\n",
    "    'name': 'John',\n",
    "    \"surname\": 'Smith',\n",
    "    \"company\": 'Redis',\n",
    "    \"age\": 29\n",
    "})"
   ]
  },
  {
   "cell_type": "code",
   "execution_count": 19,
   "metadata": {},
   "outputs": [
    {
     "data": {
      "text/plain": [
       "{'name': 'John', 'surname': 'Smith', 'company': 'Redis', 'age': '29'}"
      ]
     },
     "execution_count": 19,
     "metadata": {},
     "output_type": "execute_result"
    }
   ],
   "source": [
    "r.hgetall('user-session:123')"
   ]
  }
 ],
 "metadata": {
  "kernelspec": {
   "display_name": "Python 3",
   "language": "python",
   "name": "python3"
  },
  "language_info": {
   "codemirror_mode": {
    "name": "ipython",
    "version": 3
   },
   "file_extension": ".py",
   "mimetype": "text/x-python",
   "name": "python",
   "nbconvert_exporter": "python",
   "pygments_lexer": "ipython3",
   "version": "3.9.6"
  },
  "orig_nbformat": 4
 },
 "nbformat": 4,
 "nbformat_minor": 2
}
