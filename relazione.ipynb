{
 "cells": [
  {
   "attachments": {},
   "cell_type": "markdown",
   "metadata": {},
   "source": [
    "# Introduzione a Redis"
   ]
  },
  {
   "attachments": {},
   "cell_type": "markdown",
   "metadata": {},
   "source": [
    "## Nozioni Base\n",
    "Redis è un in-memory data structure store open source (BSD licensed)usato come database, cache, message broker e streaming engine. Redis dispone di data structures come strings, hashes, lists, sets, sorted sets con diverse queries, bitmaps, hyperloglogs, geospatial indexes, e streams. Redis ha un built-in replica system che permette di creare repliche del medesimo DB, Lua scripting, LRU eviction, transazioni e diversi livelli di on-disk persistence.\n",
    "\n",
    "Per ottenere il massimo delle performance, Redis utilizza un dataset in-memory. In base al caso d'uso, Redis può salvare i dati dumpando periodicamente il dataset su disco, oppure aggiungere ad un log ogni operazione (comando) effettuato.\n",
    "\n",
    "Redis può essere usato su quasi tutti i linguaggi di programmazione disponibili."
   ]
  },
  {
   "attachments": {},
   "cell_type": "markdown",
   "metadata": {},
   "source": [
    "## Chi usa Redis?\n",
    "Le compagnie più note che usano Redis sono:\n",
    "- Twitter\n",
    "- Github\n",
    "- Snapchat\n",
    "- Cragslist\n",
    "- StackOverflow\n",
    "\n",
    "E molte altre ancora."
   ]
  },
  {
   "attachments": {},
   "cell_type": "markdown",
   "metadata": {},
   "source": [
    "## Installazione\n",
    "### Windows\n",
    "Redis non è supportato su Windows, ma si può installare sfruttando la WSL2 (Windows Subsystem for Linux).\n",
    "Con una shell WSL correttamente inizializzata si potranno seguire gli step di installazione su macchina Ubuntu/Debian per installare l'ultima versione di Redis.\n",
    "\n",
    "```bash\n",
    "curl -fsSL https://packages.redis.io/gpg | sudo gpg --dearmor -o /usr/share/keyrings/redis-archive-keyring.gpg\n",
    "\n",
    "echo \"deb [signed-by=/usr/share/keyrings/redis-archive-keyring.gpg] https://packages.redis.io/deb $(lsb_release -cs) main\" | sudo tee /etc/apt/sources.list.d/redis.list\n",
    "\n",
    "sudo apt-get update\n",
    "sudo apt-get install redis\n",
    "```\n",
    "\n",
    "E per avviare il servizio basterà lanciare il comando:\n",
    "```bash\n",
    "sudo service redis-server start\n",
    "```"
   ]
  },
  {
   "attachments": {},
   "cell_type": "markdown",
   "metadata": {},
   "source": [
    "### Linux\n",
    "Avendo in commercio una gran quantità di distribuzioni Linux, ogni package manager di riferimento ha una guida su come installare il pacchetto Redis.\n",
    "Come spiegato nel capitolo per Windows, su sistemi Debian/Ubuntu possiamo aggiungere il Repository APT Ufficiale `packages.redis.io` e installare successivamente il pacchetto:\n",
    "```bash\n",
    "curl -fsSL https://packages.redis.io/gpg | sudo gpg --dearmor -o /usr/share/keyrings/redis-archive-keyring.gpg\n",
    "\n",
    "echo \"deb [signed-by=/usr/share/keyrings/redis-archive-keyring.gpg] https://packages.redis.io/deb $(lsb_release -cs) main\" | sudo tee /etc/apt/sources.list.d/redis.list\n",
    "\n",
    "sudo apt-get update\n",
    "sudo apt-get install redis\n",
    "```\n",
    "\n",
    "Alternativamente possiamo sfruttare il pacchetto Redis disponibile sullo Snapcraft Store e installarlo su tutte le distribuzioni che lo supportano:\n",
    "\n",
    "```bash\n",
    "sudo snap install redis\n",
    "```"
   ]
  },
  {
   "attachments": {},
   "cell_type": "markdown",
   "metadata": {},
   "source": [
    "### MacOS\n",
    "Per installare il pacchetto Redis su dispositivi macOS, sarà necessario in prima battuta installare Brew, un package manager creato per il Sistema Operativo di Cupertino.\n",
    "Una volta installato correttamente si dovrà semplicemente lanciare il comando:\n",
    "```bash\n",
    "brew install redis\n",
    "```\n",
    "\n",
    "Per avviare il servizio si dovrà usare:\n",
    "```bash\n",
    "redis-server\n",
    "```\n",
    "\n",
    "Per fermare il servizio andrà premuto `CTRL-C`"
   ]
  },
  {
   "attachments": {},
   "cell_type": "markdown",
   "metadata": {},
   "source": [
    "## Pro e Contro\n",
    "PRO:\n",
    "\n",
    "- Velocità: Redis è estremamente veloce, in grado di gestire grandi quantità di dati in modo rapido e efficiente, grazie alla sua architettura in memoria.\n",
    "\n",
    "- Scalabilità: Redis è in grado di scalare orizzontalmente, ovvero di aggiungere nodi al cluster per aumentare la capacità di gestione dei dati.\n",
    "\n",
    "- API: Redis offre una vasta gamma di API per supportare la gestione dei dati, tra cui la memorizzazione di dati semplici, liste, set e mappe.\n",
    "\n",
    "- Persistenza dei dati: Redis offre la possibilità di persistere i dati su disco, garantendo la durata dei dati in caso di malfunzionamenti del server.\n",
    "\n",
    "- Architettura semplice: Redis è facile da utilizzare e da configurare, anche per gli utenti meno esperti.\n",
    "\n",
    "CONTRO:\n",
    "\n",
    "- Scalabilità: Anche se Redis è in grado di scalare orizzontalmente, aggiungendo nodi ai cluster, non sfrutta al massimo le capacità della singola macchina. Per questo sono state create versioni multi-thread ad esempio: [cachegrand.io](https://cachegrand.io/)\n",
    "\n",
    "- Capacità limitata: Poiché Redis utilizza la memoria per archiviare i dati, la capacità di archiviazione è limitata dalla quantità di memoria disponibile sul server.\n",
    "\n",
    "- Nessun supporto per SQL: Redis non supporta SQL, quindi non è adatto per applicazioni che richiedono complesse operazioni di query.\n",
    "\n",
    "- Persistenza dei dati: Anche se Redis offre la possibilità di persistere i dati su disco, questa funzionalità può rallentare le prestazioni del server.\n",
    "\n",
    "- Nessun supporto per transazioni complesse: Redis non supporta le transazioni complesse, il che lo rende meno adatto per le applicazioni che richiedono operazioni di transazione complesse e transazioni ACID."
   ]
  },
  {
   "attachments": {},
   "cell_type": "markdown",
   "metadata": {},
   "source": [
    "## Librerie del DBMS\n",
    "Quasi tutti i linguaggi di programmazione hanno disponibile un porting per connettersi al servizio Redis, lavorando con Python andremo nel dettaglio di quest'ultima.\n",
    "### redis-py\n",
    "**Installazione**\n",
    "\n",
    "Per installare redis-py:\n",
    "```bash\n",
    "pip install redis-py\n",
    "```\n",
    "\n",
    "Per migliorare le performance si può utilizzare installa il pacchetto con il supporto ad `hiredis`, che offre un Response Parser compilato, che per molte situazioni richiede 0 modifiche.\n",
    "\n",
    "```bash\n",
    "pip install redis[hiredis]\n",
    "```"
   ]
  },
  {
   "attachments": {},
   "cell_type": "markdown",
   "metadata": {},
   "source": [
    "Link alla documentazione di [redis-py](https://redis-py.readthedocs.io/en/stable/)"
   ]
  },
  {
   "attachments": {},
   "cell_type": "markdown",
   "metadata": {},
   "source": [
    "Installazione di redis-py su Jupiter:"
   ]
  },
  {
   "cell_type": "code",
   "execution_count": 1,
   "metadata": {},
   "outputs": [
    {
     "name": "stdout",
     "output_type": "stream",
     "text": [
      "Defaulting to user installation because normal site-packages is not writeable\n",
      "Requirement already satisfied: redis in /home/reloonfire/.local/lib/python3.10/site-packages (4.5.5)\n",
      "Requirement already satisfied: async-timeout>=4.0.2 in /home/reloonfire/.local/lib/python3.10/site-packages (from redis) (4.0.2)\n",
      "Note: you may need to restart the kernel to use updated packages.\n"
     ]
    }
   ],
   "source": [
    "%pip install redis"
   ]
  },
  {
   "attachments": {},
   "cell_type": "markdown",
   "metadata": {},
   "source": [
    "## Creazione e Connessione al DB\n",
    "Per facilitare lo sviluppo su più sistemi operativi, questo progetto dispone di un docker-compose.yml file, contenente il necessario per avviare un'istanza redis con due User Interfaces, quali `redis-cli` e `RedisInsight`.\n",
    "\n",
    "Per avviare il servizio si può lanciare il comando:\n",
    "```bash\n",
    "make start\n",
    "```"
   ]
  },
  {
   "attachments": {},
   "cell_type": "markdown",
   "metadata": {},
   "source": [
    "### Connessione al DB tramite redis-py"
   ]
  },
  {
   "cell_type": "code",
   "execution_count": 2,
   "metadata": {},
   "outputs": [],
   "source": [
    "import redis\n",
    "from redis.commands.json.path import Path\n",
    "from redis.commands.search.field import TextField, NumericField, VectorField\n",
    "from redis.commands.search.indexDefinition import IndexDefinition, IndexType\n",
    "\n",
    "r = redis.Redis(host='localhost', port=6379, decode_responses=True)"
   ]
  },
  {
   "attachments": {},
   "cell_type": "markdown",
   "metadata": {},
   "source": [
    "## Operazioni CRUD\n",
    "In Redis, le operazioni CRUD (Create, Read, Update, Delete) sono eseguite tramite comandi specifici per la manipolazione dei dati.\n",
    "\n",
    "Ecco una panoramica delle operazioni CRUD in Redis:\n",
    "\n",
    "- CREATE: L'operazione di creazione di un nuovo dato in Redis viene eseguita utilizzando il comando SET. Ad esempio, per creare un nuovo valore \"valore1\" associato alla chiave \"chiave1\", si può utilizzare il comando SET chiave1 valore1."
   ]
  },
  {
   "cell_type": "code",
   "execution_count": 3,
   "metadata": {},
   "outputs": [
    {
     "data": {
      "text/plain": [
       "True"
      ]
     },
     "execution_count": 3,
     "metadata": {},
     "output_type": "execute_result"
    }
   ],
   "source": [
    "r.set('nome', 'Marco')"
   ]
  },
  {
   "attachments": {},
   "cell_type": "markdown",
   "metadata": {},
   "source": [
    "- READ: Per leggere i dati associati a una chiave, si può utilizzare il comando GET. Ad esempio, per leggere il valore associato alla chiave \"chiave1\", si può utilizzare il comando GET chiave1."
   ]
  },
  {
   "cell_type": "code",
   "execution_count": 4,
   "metadata": {},
   "outputs": [
    {
     "data": {
      "text/plain": [
       "'Marco'"
      ]
     },
     "execution_count": 4,
     "metadata": {},
     "output_type": "execute_result"
    }
   ],
   "source": [
    "r.get('nome')"
   ]
  },
  {
   "attachments": {},
   "cell_type": "markdown",
   "metadata": {},
   "source": [
    "- UPDATE: L'operazione di aggiornamento di un dato esistente in Redis viene eseguita utilizzando il comando SET. Ad esempio, per aggiornare il valore associato alla chiave \"chiave1\" con il nuovo valore \"valore2\", si può utilizzare il comando SET chiave1 valore2."
   ]
  },
  {
   "cell_type": "code",
   "execution_count": 5,
   "metadata": {},
   "outputs": [
    {
     "data": {
      "text/plain": [
       "True"
      ]
     },
     "execution_count": 5,
     "metadata": {},
     "output_type": "execute_result"
    }
   ],
   "source": [
    "r.set('nome', 'Francesco')"
   ]
  },
  {
   "attachments": {},
   "cell_type": "markdown",
   "metadata": {},
   "source": [
    "\n",
    "- DELETE: Per eliminare una chiave e il valore associato, si può utilizzare il comando DEL. Ad esempio, per eliminare la chiave \"chiave1\" e il valore associato ad essa, si può utilizzare il comando DEL chiave1."
   ]
  },
  {
   "cell_type": "code",
   "execution_count": 6,
   "metadata": {},
   "outputs": [
    {
     "data": {
      "text/plain": [
       "1"
      ]
     },
     "execution_count": 6,
     "metadata": {},
     "output_type": "execute_result"
    }
   ],
   "source": [
    "r.delete('nome')"
   ]
  },
  {
   "attachments": {},
   "cell_type": "markdown",
   "metadata": {},
   "source": [
    "Inoltre, Redis offre anche altri comandi per manipolare i dati in modo più specifico, come ad esempio il comando INCR per incrementare il valore numerico di una chiave, il comando LPUSH per aggiungere un valore a una lista, e il comando SADD per aggiungere un elemento a un set."
   ]
  },
  {
   "attachments": {},
   "cell_type": "markdown",
   "metadata": {},
   "source": [
    "## Comparazione con i DBMS visti a lezione\n",
    "\n",
    "Redis è un DB NoSQL che offre velocità, affidabilità e prestazioni, posto a confronto con altri DB abbiamo alcune differenze:\n",
    "\n",
    "- Nel DB in analisi la differenza principale nel salvataggio dei dati in memoria è che questi non vengono salvati nella memoria secondaria ma bensì nella memoria primaria rendendo le operazioni di lettura e di scrittura molto veloci \n",
    "- La struttura delle query è molto semplice e varia in base alla versione di Redis che si utilizza: bisogna definire la funzione da eseguire e successivamente i parametri."
   ]
  },
  {
   "cell_type": "code",
   "execution_count": 7,
   "metadata": {},
   "outputs": [
    {
     "data": {
      "text/plain": [
       "24"
      ]
     },
     "execution_count": 7,
     "metadata": {},
     "output_type": "execute_result"
    }
   ],
   "source": [
    "r.rpush(\"mylist\", 1, 2, 3, 4, 5, \"hello world\")\n",
    "# RPUSH mylist 1 2 3 4 5 \"hello world\""
   ]
  },
  {
   "attachments": {},
   "cell_type": "markdown",
   "metadata": {},
   "source": [
    "&emsp;&emsp;&ensp;La funzione sopra indicata permette di eseguire una push in una lista aggiungendo sei elementi, per poter vedere gli elementi all'interno di una lista basta semplicemente eseguire:"
   ]
  },
  {
   "cell_type": "code",
   "execution_count": 8,
   "metadata": {},
   "outputs": [
    {
     "data": {
      "text/plain": [
       "['1',\n",
       " '2',\n",
       " '3',\n",
       " '4',\n",
       " '5',\n",
       " 'hello world',\n",
       " '1',\n",
       " '2',\n",
       " '3',\n",
       " '4',\n",
       " '5',\n",
       " 'hello world',\n",
       " '1',\n",
       " '2',\n",
       " '3',\n",
       " '4',\n",
       " '5',\n",
       " 'hello world',\n",
       " '1',\n",
       " '2',\n",
       " '3',\n",
       " '4',\n",
       " '5',\n",
       " 'hello world']"
      ]
     },
     "execution_count": 8,
     "metadata": {},
     "output_type": "execute_result"
    }
   ],
   "source": [
    "r.lrange(\"mylist\", 0, -1)"
   ]
  },
  {
   "attachments": {},
   "cell_type": "markdown",
   "metadata": {},
   "source": [
    "Da questi esempi (non complessi) si può notare la semplicità e la facilità di uso di questo DB. \n",
    "In poco tempo con il supporto della documentazione si può imparare e si può utilizzare al meglio questo strumento.\n",
    "Infine la documentazione presente sul sito di <link href=\"redis.io\">redis.io</link> è disponibile solamente in inglese, permette di seguire l'utente dall'installazione all'utilizzo completo del Database e consente di imparare tutte le nozioni base (e anche non) in poco tempo in una guida descritta semplicemente e passo passo. "
   ]
  },
  {
   "attachments": {},
   "cell_type": "markdown",
   "metadata": {},
   "source": [
    "## Esempi di query (Complesse)\n",
    "E' importante notare che Redis non è un database relazionale tradizionale con un linguaggio di query completo come SQL. Redis è un database di strutture dati in memoria che offre un set di comandi per la manipolazione di essi.\n",
    "\n",
    "Nel contesto di Redis, le query complesse sono solitamente realizzate concatenando i comandi disponibili nel Redis Command Language. Vengono forniti un insieme di comandi predefiniti per interagire con Redis, come SET, GET, HSET, HGET, ecc., che possono essere utilizzati per leggere, scrivere o manipolare i dati all'interno delle strutture di dati come stringhe, liste, set, hash, ecc.\n",
    "\n",
    "Redis fornisce inoltre un sistema di scripting integrato, tramite il linguaggio Lua, che permette di eseguire più comandi e creare logiche complesse.\n",
    "\n",
    "Ai fini del progetto verranno introdotto due moduli esterni, ma disponibili all'interno della docker image <code>redis-stack</code> denominati [RediSearch](https://redis.io/docs/stack/search) e [RedisJSON](https://redis.io/docs/stack/json/), redis-stack contiene altri moduli per il supporto a Grafi e TimeSeries."
   ]
  },
  {
   "attachments": {},
   "cell_type": "markdown",
   "metadata": {},
   "source": [
    "## Introduzione ai Moduli Esterni\n",
    "RediSearch è un modulo open source di Redis che abilita all'uso di query, secondary indexing e full-text search sul DB. Queste funzionalità permetto queries su più fields, aggregation, exact phrase matching, come visto anche all'interno di ElasticSearch.\n",
    "Tramite questo modulo possiamo dunque simulare all'interno di redis un comportamento simile a quello di ES.\n",
    "\n",
    "Il modulo RedisJSON abilita al supporto per i JSON, permettendo di salvare, aggiornare e recuperare dei JSON values all'interno del DB, in modo similare ai tipi già coperti da Redis. RedisJSON funziona autoamaticamente con RediSearch permettendo di creare indici e effettuare query su documenti JSON."
   ]
  },
  {
   "cell_type": "code",
   "execution_count": 9,
   "metadata": {},
   "outputs": [],
   "source": [
    "## Creiamo lo schema per l'indice\n",
    "schema = (NumericField('$.id', as_name='id'),\n",
    "          TextField('$.name.english', as_name='english'),\n",
    "          TextField('$.name.japanese', as_name='japanese'),\n",
    "          TextField('$.name.chinese', as_name='chinese'),\n",
    "          TextField('$.name.french', as_name='french'),\n",
    "          TextField('$.type', as_name='type'),\n",
    "          NumericField('$.base.HP', as_name='hp'),\n",
    "          NumericField('$.base.Attack', as_name='att'),\n",
    "          NumericField('$.base.Defense', as_name='def'),\n",
    "          NumericField('$.base.Sp. Attack', as_name='spatt'),\n",
    "          NumericField('$.base.Sp. Defense', as_name='spdef'),\n",
    "          NumericField('$.base.Speed', as_name='spd'))\n",
    "\n",
    "## Creiamo l'indice se non esiste\n",
    "try:\n",
    "    r.ft(\"pokemon\").create_index(schema, definition=IndexDefinition(\n",
    "        prefix=['pokemon:'], index_type=IndexType.JSON))\n",
    "except:\n",
    "    # passa oltre se esiste già\n",
    "    pass\n",
    "\n",
    "from redis.commands.search.query import NumericFilter, Query\n",
    "import redis.commands.search.aggregation as aggregations\n",
    "import redis.commands.search.reducers as reducers"
   ]
  },
  {
   "attachments": {},
   "cell_type": "markdown",
   "metadata": {},
   "source": [
    "- Cerca tutti i pokemon che contengono Pika nel loro nome:"
   ]
  },
  {
   "cell_type": "code",
   "execution_count": 10,
   "metadata": {},
   "outputs": [
    {
     "data": {
      "text/plain": [
       "Result{1 total, docs: [Document {'id': 'pokemon:25', 'payload': None, 'json': '{\"id\":25,\"name\":{\"english\":\"Pikachu\",\"japanese\":\"ピカチュウ\",\"chinese\":\"皮卡丘\",\"french\":\"Pikachu\"},\"type\":[\"Electric\"],\"base\":{\"HP\":35,\"Attack\":55,\"Defense\":40,\"Sp. Attack\":50,\"Sp. Defense\":50,\"Speed\":90}}'}]}"
      ]
     },
     "execution_count": 10,
     "metadata": {},
     "output_type": "execute_result"
    }
   ],
   "source": [
    "r.ft(\"pokemon\").search(\"Pika*\")"
   ]
  },
  {
   "attachments": {},
   "cell_type": "markdown",
   "metadata": {},
   "source": [
    "Tempo di Esecuzione: 4.778 ms"
   ]
  },
  {
   "attachments": {},
   "cell_type": "markdown",
   "metadata": {},
   "source": [
    "- Cerca tutti i pokemon di tipo Fuoco (contenendo anche i tipi misti come Fuoco-Volante)"
   ]
  },
  {
   "cell_type": "code",
   "execution_count": 11,
   "metadata": {},
   "outputs": [
    {
     "data": {
      "text/plain": [
       "Result{64 total, docs: [Document {'id': 'pokemon:255', 'payload': None, 'json': '{\"id\":255,\"name\":{\"english\":\"Torchic\",\"japanese\":\"アチャモ\",\"chinese\":\"火稚鸡\",\"french\":\"Poussifeu\"},\"type\":[\"Fire\"],\"base\":{\"HP\":45,\"Attack\":60,\"Defense\":40,\"Sp. Attack\":70,\"Sp. Defense\":50,\"Speed\":45}}'}, Document {'id': 'pokemon:498', 'payload': None, 'json': '{\"id\":498,\"name\":{\"english\":\"Tepig\",\"japanese\":\"ポカブ\",\"chinese\":\"暖暖猪\",\"french\":\"Gruikui\"},\"type\":[\"Fire\"],\"base\":{\"HP\":65,\"Attack\":63,\"Defense\":45,\"Sp. Attack\":45,\"Sp. Defense\":45,\"Speed\":45}}'}, Document {'id': 'pokemon:725', 'payload': None, 'json': '{\"id\":725,\"name\":{\"english\":\"Litten\",\"japanese\":\"ニャビー\",\"chinese\":\"火斑喵\",\"french\":\"Flamiaou\"},\"type\":[\"Fire\"],\"base\":{\"HP\":45,\"Attack\":65,\"Defense\":40,\"Sp. Attack\":60,\"Sp. Defense\":40,\"Speed\":70}}'}, Document {'id': 'pokemon:257', 'payload': None, 'json': '{\"id\":257,\"name\":{\"english\":\"Blaziken\",\"japanese\":\"バシャーモ\",\"chinese\":\"火焰鸡\",\"french\":\"Braségali\"},\"type\":[\"Fire\",\"Fighting\"],\"base\":{\"HP\":80,\"Attack\":120,\"Defense\":70,\"Sp. Attack\":110,\"Sp. Defense\":70,\"Speed\":80}}'}, Document {'id': 'pokemon:229', 'payload': None, 'json': '{\"id\":229,\"name\":{\"english\":\"Houndoom\",\"japanese\":\"ヘルガー\",\"chinese\":\"黑鲁加\",\"french\":\"Démolosse\"},\"type\":[\"Dark\",\"Fire\"],\"base\":{\"HP\":75,\"Attack\":90,\"Defense\":50,\"Sp. Attack\":110,\"Sp. Defense\":80,\"Speed\":95}}'}, Document {'id': 'pokemon:667', 'payload': None, 'json': '{\"id\":667,\"name\":{\"english\":\"Litleo\",\"japanese\":\"シシコ\",\"chinese\":\"小狮狮\",\"french\":\"Hélionceau\"},\"type\":[\"Fire\",\"Normal\"],\"base\":{\"HP\":62,\"Attack\":50,\"Defense\":58,\"Sp. Attack\":73,\"Sp. Defense\":54,\"Speed\":72}}'}, Document {'id': 'pokemon:637', 'payload': None, 'json': '{\"id\":637,\"name\":{\"english\":\"Volcarona\",\"japanese\":\"ウルガモス\",\"chinese\":\"火神蛾\",\"french\":\"Pyrax\"},\"type\":[\"Bug\",\"Fire\"],\"base\":{\"HP\":85,\"Attack\":60,\"Defense\":65,\"Sp. Attack\":135,\"Sp. Defense\":105,\"Speed\":100}}'}, Document {'id': 'pokemon:608', 'payload': None, 'json': '{\"id\":608,\"name\":{\"english\":\"Lampent\",\"japanese\":\"ランプラー\",\"chinese\":\"灯火幽灵\",\"french\":\"Mélancolux\"},\"type\":[\"Ghost\",\"Fire\"],\"base\":{\"HP\":60,\"Attack\":40,\"Defense\":60,\"Sp. Attack\":95,\"Sp. Defense\":60,\"Speed\":55}}'}, Document {'id': 'pokemon:513', 'payload': None, 'json': '{\"id\":513,\"name\":{\"english\":\"Pansear\",\"japanese\":\"バオップ\",\"chinese\":\"爆香猴\",\"french\":\"Flamajou\"},\"type\":[\"Fire\"],\"base\":{\"HP\":50,\"Attack\":53,\"Defense\":48,\"Sp. Attack\":53,\"Sp. Defense\":48,\"Speed\":64}}'}, Document {'id': 'pokemon:78', 'payload': None, 'json': '{\"id\":78,\"name\":{\"english\":\"Rapidash\",\"japanese\":\"ギャロップ\",\"chinese\":\"烈焰马\",\"french\":\"Galopa\"},\"type\":[\"Fire\"],\"base\":{\"HP\":65,\"Attack\":100,\"Defense\":70,\"Sp. Attack\":80,\"Sp. Defense\":80,\"Speed\":105}}'}]}"
      ]
     },
     "execution_count": 11,
     "metadata": {},
     "output_type": "execute_result"
    }
   ],
   "source": [
    "query = Query(\"@type:Fire\")\n",
    "r.ft(\"pokemon\").search(query)"
   ]
  },
  {
   "attachments": {},
   "cell_type": "markdown",
   "metadata": {},
   "source": [
    "Tempo di Esecuzione: 6.353 ms"
   ]
  },
  {
   "attachments": {},
   "cell_type": "markdown",
   "metadata": {},
   "source": [
    "- Cerca i primi 10 pokemon che hanno un attacco compreso fra 50 e 100 (estremi inclusi)"
   ]
  },
  {
   "cell_type": "code",
   "execution_count": 12,
   "metadata": {},
   "outputs": [
    {
     "data": {
      "text/plain": [
       "[Document {'id': 'pokemon:82', 'payload': None, 'english': 'Magneton', 'att': '60'},\n",
       " Document {'id': 'pokemon:518', 'payload': None, 'english': 'Musharna', 'att': '55'},\n",
       " Document {'id': 'pokemon:159', 'payload': None, 'english': 'Croconaw', 'att': '80'},\n",
       " Document {'id': 'pokemon:387', 'payload': None, 'english': 'Turtwig', 'att': '68'},\n",
       " Document {'id': 'pokemon:305', 'payload': None, 'english': 'Lairon', 'att': '90'},\n",
       " Document {'id': 'pokemon:358', 'payload': None, 'english': 'Chimecho', 'att': '50'},\n",
       " Document {'id': 'pokemon:158', 'payload': None, 'english': 'Totodile', 'att': '65'},\n",
       " Document {'id': 'pokemon:501', 'payload': None, 'english': 'Oshawott', 'att': '55'},\n",
       " Document {'id': 'pokemon:460', 'payload': None, 'english': 'Abomasnow', 'att': '92'},\n",
       " Document {'id': 'pokemon:255', 'payload': None, 'english': 'Torchic', 'att': '60'}]"
      ]
     },
     "execution_count": 12,
     "metadata": {},
     "output_type": "execute_result"
    }
   ],
   "source": [
    "query = Query(\"@att:[50 100]\").return_fields(\"english\", \"att\").paging(0, 10)\n",
    "r.ft(\"pokemon\").search(query).docs"
   ]
  },
  {
   "attachments": {},
   "cell_type": "markdown",
   "metadata": {},
   "source": [
    "Tempo di Esecuzione: 2.457 ms"
   ]
  },
  {
   "attachments": {},
   "cell_type": "markdown",
   "metadata": {},
   "source": [
    "- Trovare tutti i pokémon con difesa minore di 90 o di tipo “Flying”. Proiettare solo l’attacco, il nome in inglese e i tipi. Limitare i risultati da visualizzare a 10."
   ]
  },
  {
   "cell_type": "code",
   "execution_count": 13,
   "metadata": {},
   "outputs": [
    {
     "data": {
      "text/plain": [
       "[Document {'id': 'pokemon:255', 'payload': None, 'english': 'Torchic', 'type': '[\"Fire\"]', 'att': '60'},\n",
       " Document {'id': 'pokemon:498', 'payload': None, 'english': 'Tepig', 'type': '[\"Fire\"]', 'att': '63'},\n",
       " Document {'id': 'pokemon:725', 'payload': None, 'english': 'Litten', 'type': '[\"Fire\"]', 'att': '65'},\n",
       " Document {'id': 'pokemon:257', 'payload': None, 'english': 'Blaziken', 'type': '[\"Fire\",\"Fighting\"]', 'att': '120'},\n",
       " Document {'id': 'pokemon:229', 'payload': None, 'english': 'Houndoom', 'type': '[\"Dark\",\"Fire\"]', 'att': '90'},\n",
       " Document {'id': 'pokemon:667', 'payload': None, 'english': 'Litleo', 'type': '[\"Fire\",\"Normal\"]', 'att': '50'},\n",
       " Document {'id': 'pokemon:637', 'payload': None, 'english': 'Volcarona', 'type': '[\"Bug\",\"Fire\"]', 'att': '60'},\n",
       " Document {'id': 'pokemon:608', 'payload': None, 'english': 'Lampent', 'type': '[\"Ghost\",\"Fire\"]', 'att': '40'},\n",
       " Document {'id': 'pokemon:513', 'payload': None, 'english': 'Pansear', 'type': '[\"Fire\"]', 'att': '53'},\n",
       " Document {'id': 'pokemon:78', 'payload': None, 'english': 'Rapidash', 'type': '[\"Fire\"]', 'att': '100'}]"
      ]
     },
     "execution_count": 13,
     "metadata": {},
     "output_type": "execute_result"
    }
   ],
   "source": [
    "query = Query(\"@def:[0 90] | @type:Fire\").return_fields(\"english\", \"type\", \"att\").paging(0, 10)\n",
    "r.ft(\"pokemon\").search(query).docs"
   ]
  },
  {
   "attachments": {},
   "cell_type": "markdown",
   "metadata": {},
   "source": [
    "Tempo di Esecuzione: 3.846 ms"
   ]
  },
  {
   "attachments": {},
   "cell_type": "markdown",
   "metadata": {},
   "source": [
    "- Trovare la media dei valori di Attacco per tutti i tipi"
   ]
  },
  {
   "cell_type": "code",
   "execution_count": 14,
   "metadata": {},
   "outputs": [
    {
     "data": {
      "text/plain": [
       "[['type', '[\"Electric\",\"Ghost\"]', '__generated_aliasavgatt', '50'],\n",
       " ['type', '[\"Bug\",\"Poison\"]', '__generated_aliasavgatt', '60.9090909091'],\n",
       " ['type', '[\"Electric\",\"Flying\"]', '__generated_aliasavgatt', '93.3333333333'],\n",
       " ['type', '[\"Normal\",\"Flying\"]', '__generated_aliasavgatt', '76.0769230769'],\n",
       " ['type', '[\"Fire\"]', '__generated_aliasavgatt', '78.2'],\n",
       " ['type', '[\"Fighting\",\"Psychic\"]', '__generated_aliasavgatt', '50'],\n",
       " ['type', '[\"Fighting\",\"Ghost\"]', '__generated_aliasavgatt', '125'],\n",
       " ['type', '[\"Grass\",\"Ground\"]', '__generated_aliasavgatt', '109'],\n",
       " ['type', '[\"Poison\",\"Fighting\"]', '__generated_aliasavgatt', '83.5'],\n",
       " ['type', '[\"Psychic\",\"Fire\"]', '__generated_aliasavgatt', '100'],\n",
       " ['type', '[\"Water\",\"Ground\"]', '__generated_aliasavgatt', '77.1111111111'],\n",
       " ['type', '[\"Grass\",\"Dark\"]', '__generated_aliasavgatt', '95'],\n",
       " ['type', '[\"Ice\",\"Water\"]', '__generated_aliasavgatt', '60'],\n",
       " ['type', '[\"Steel\",\"Psychic\"]', '__generated_aliasavgatt', '79.6666666667'],\n",
       " ['type', '[\"Fire\",\"Normal\"]', '__generated_aliasavgatt', '59'],\n",
       " ['type', '[\"Dark\",\"Steel\"]', '__generated_aliasavgatt', '105'],\n",
       " ['type', '[\"Fairy\",\"Flying\"]', '__generated_aliasavgatt', '45'],\n",
       " ['type', '[\"Rock\",\"Flying\"]', '__generated_aliasavgatt', '104.25'],\n",
       " ['type', '[\"Psychic\",\"Flying\"]', '__generated_aliasavgatt', '62.5'],\n",
       " ['type', '[\"Ice\",\"Ghost\"]', '__generated_aliasavgatt', '80'],\n",
       " ['type', '[\"Rock\",\"Dragon\"]', '__generated_aliasavgatt', '105'],\n",
       " ['type', '[\"Dragon\",\"Flying\"]', '__generated_aliasavgatt', '122.25'],\n",
       " ['type', '[\"Steel\",\"Dragon\"]', '__generated_aliasavgatt', '120'],\n",
       " ['type', '[\"Bug\",\"Ghost\"]', '__generated_aliasavgatt', '90'],\n",
       " ['type', '[\"Water\",\"Rock\"]', '__generated_aliasavgatt', '82.75'],\n",
       " ['type', '[\"Ghost\",\"Fairy\"]', '__generated_aliasavgatt', '90'],\n",
       " ['type', '[\"Dark\",\"Ice\"]', '__generated_aliasavgatt', '107.5'],\n",
       " ['type', '[\"Dragon\",\"Fighting\"]', '__generated_aliasavgatt', '92.5'],\n",
       " ['type', '[\"Ground\",\"Steel\"]', '__generated_aliasavgatt', '135'],\n",
       " ['type', '[\"Fire\",\"Fighting\"]', '__generated_aliasavgatt', '100.5'],\n",
       " ['type', '[\"Grass\",\"Psychic\"]', '__generated_aliasavgatt', '67.5'],\n",
       " ['type', '[\"Grass\",\"Fighting\"]', '__generated_aliasavgatt', '109'],\n",
       " ['type', '[\"Fighting\",\"Ice\"]', '__generated_aliasavgatt', '132'],\n",
       " ['type', '[\"Ice\",\"Ground\"]', '__generated_aliasavgatt', '93.3333333333'],\n",
       " ['type', '[\"Water\",\"Fighting\"]', '__generated_aliasavgatt', '83.5'],\n",
       " ['type', '[\"Steel\"]', '__generated_aliasavgatt', '86.3333333333'],\n",
       " ['type', '[\"Dark\",\"Psychic\"]', '__generated_aliasavgatt', '73'],\n",
       " ['type', '[\"Normal\",\"Fighting\"]', '__generated_aliasavgatt', '100'],\n",
       " ['type', '[\"Grass\"]', '__generated_aliasavgatt', '68.9736842105'],\n",
       " ['type', '[\"Poison\",\"Dragon\"]', '__generated_aliasavgatt', '74'],\n",
       " ['type', '[\"Steel\",\"Ghost\"]', '__generated_aliasavgatt', '80'],\n",
       " ['type', '[\"Dark\",\"Fire\"]', '__generated_aliasavgatt', '75'],\n",
       " ['type', '[\"Rock\",\"Grass\"]', '__generated_aliasavgatt', '61'],\n",
       " ['type', '[\"Dragon\",\"Fire\"]', '__generated_aliasavgatt', '120'],\n",
       " ['type', '[\"Normal\",\"Psychic\"]', '__generated_aliasavgatt', '72.3333333333'],\n",
       " ['type', '[\"Dragon\",\"Ice\"]', '__generated_aliasavgatt', '130'],\n",
       " ['type', '[\"Steel\",\"Rock\"]', '__generated_aliasavgatt', '90'],\n",
       " ['type', '[\"Fire\",\"Steel\"]', '__generated_aliasavgatt', '90'],\n",
       " ['type', '[\"Dark\",\"Ghost\"]', '__generated_aliasavgatt', '75'],\n",
       " ['type', '[\"Psychic\",\"Fairy\"]', '__generated_aliasavgatt', '46.6666666667'],\n",
       " ['type', '[\"Bug\",\"Fire\"]', '__generated_aliasavgatt', '72.5'],\n",
       " ['type', '[\"Dragon\"]', '__generated_aliasavgatt', '89.0833333333'],\n",
       " ['type', '[\"Psychic\",\"Ghost\"]', '__generated_aliasavgatt', '111.5'],\n",
       " ['type', '[\"Water\"]', '__generated_aliasavgatt', '68.6557377049'],\n",
       " ['type', '[\"Ice\"]', '__generated_aliasavgatt', '73.8333333333'],\n",
       " ['type', '[\"Fighting\",\"Flying\"]', '__generated_aliasavgatt', '92'],\n",
       " ['type', '[\"Bug\",\"Water\"]', '__generated_aliasavgatt', '63.3333333333'],\n",
       " ['type', '[\"Water\",\"Steel\"]', '__generated_aliasavgatt', '86'],\n",
       " ['type', '[\"Ground\",\"Dragon\"]', '__generated_aliasavgatt', '85'],\n",
       " ['type', '[\"Steel\",\"Flying\"]', '__generated_aliasavgatt', '90.5'],\n",
       " ['type', '[\"Poison\"]', '__generated_aliasavgatt', '72.9375'],\n",
       " ['type', '[\"Water\",\"Grass\"]', '__generated_aliasavgatt', '50'],\n",
       " ['type', '[\"Water\",\"Ice\"]', '__generated_aliasavgatt', '83.3333333333'],\n",
       " ['type', '[\"Dragon\",\"Ground\"]', '__generated_aliasavgatt', '97.5'],\n",
       " ['type', '[\"Grass\",\"Fairy\"]', '__generated_aliasavgatt', '60.8'],\n",
       " ['type', '[\"Water\",\"Dark\"]', '__generated_aliasavgatt', '106.25'],\n",
       " ['type', '[\"Fire\",\"Rock\"]', '__generated_aliasavgatt', '50'],\n",
       " ['type', '[\"Water\",\"Dragon\"]', '__generated_aliasavgatt', '107.5'],\n",
       " ['type', '[\"Rock\",\"Water\"]', '__generated_aliasavgatt', '75.3333333333'],\n",
       " ['type', '[\"Dark\",\"Flying\"]', '__generated_aliasavgatt', '92.2'],\n",
       " ['type', '[\"Poison\",\"Bug\"]', '__generated_aliasavgatt', '50'],\n",
       " ['type', '[\"Fire\",\"Dragon\"]', '__generated_aliasavgatt', '78'],\n",
       " ['type', '[\"Fairy\"]', '__generated_aliasavgatt', '63'],\n",
       " ['type', '[\"Bug\",\"Electric\"]', '__generated_aliasavgatt', '69'],\n",
       " ['type', '[\"Grass\",\"Ice\"]', '__generated_aliasavgatt', '77'],\n",
       " ['type', '[\"Ice\",\"Psychic\"]', '__generated_aliasavgatt', '40'],\n",
       " ['type', '[\"Ground\",\"Ghost\"]', '__generated_aliasavgatt', '99'],\n",
       " ['type', '[\"Ghost\",\"Flying\"]', '__generated_aliasavgatt', '65'],\n",
       " ['type', '[\"Ghost\",\"Dragon\"]', '__generated_aliasavgatt', '100'],\n",
       " ['type', '[\"Ghost\",\"Fire\"]', '__generated_aliasavgatt', '41.6666666667'],\n",
       " ['type', '[\"Ghost\",\"Dark\"]', '__generated_aliasavgatt', '92'],\n",
       " ['type', '[\"Fighting\",\"Dark\"]', '__generated_aliasavgatt', '124'],\n",
       " ['type', '[\"Fire\",\"Flying\"]', '__generated_aliasavgatt', '89.6666666667'],\n",
       " ['type', '[\"Water\",\"Bug\"]', '__generated_aliasavgatt', '55'],\n",
       " ['type', '[\"Fighting\",\"Steel\"]', '__generated_aliasavgatt', '110'],\n",
       " ['type', '[\"Rock\",\"Ground\"]', '__generated_aliasavgatt', '81.3333333333'],\n",
       " ['type', '[\"Psychic\",\"Grass\"]', '__generated_aliasavgatt', '100'],\n",
       " ['type', '[\"Fire\",\"Psychic\"]', '__generated_aliasavgatt', '69'],\n",
       " ['type', '[\"Normal\",\"Dragon\"]', '__generated_aliasavgatt', '60'],\n",
       " ['type', '[\"Fire\",\"Ghost\"]', '__generated_aliasavgatt', '127'],\n",
       " ['type', '[\"Normal\",\"Water\"]', '__generated_aliasavgatt', '85'],\n",
       " ['type', '[\"Electric\"]', '__generated_aliasavgatt', '71.25'],\n",
       " ['type', '[\"Ghost\",\"Grass\"]', '__generated_aliasavgatt', '95.4'],\n",
       " ['type', '[\"Steel\",\"Ground\"]', '__generated_aliasavgatt', '85'],\n",
       " ['type', '[\"Bug\",\"Fairy\"]', '__generated_aliasavgatt', '50'],\n",
       " ['type', '[\"Dark\"]', '__generated_aliasavgatt', '82'],\n",
       " ['type', '[\"Bug\",\"Rock\"]', '__generated_aliasavgatt', '60'],\n",
       " ['type', '[\"Rock\",\"Ice\"]', '__generated_aliasavgatt', '68'],\n",
       " ['type', '[\"Fire\",\"Water\"]', '__generated_aliasavgatt', '110'],\n",
       " ['type', '[\"Bug\",\"Steel\"]', '__generated_aliasavgatt', '116.8'],\n",
       " ['type', '[\"Fire\",\"Dark\"]', '__generated_aliasavgatt', '115'],\n",
       " ['type', '[\"Grass\",\"Ghost\"]', '__generated_aliasavgatt', '107'],\n",
       " ['type', '[\"Water\",\"Electric\"]', '__generated_aliasavgatt', '48'],\n",
       " ['type', '[\"Ground\",\"Flying\"]', '__generated_aliasavgatt', '98.3333333333'],\n",
       " ['type', '[\"Steel\",\"Fighting\"]', '__generated_aliasavgatt', '90'],\n",
       " ['type', '[\"Bug\",\"Ground\"]', '__generated_aliasavgatt', '45'],\n",
       " ['type', '[\"Ground\",\"Electric\"]', '__generated_aliasavgatt', '66'],\n",
       " ['type', '[\"Ghost\"]', '__generated_aliasavgatt', '66.6666666667'],\n",
       " ['type', '[\"Rock\",\"Bug\"]', '__generated_aliasavgatt', '110'],\n",
       " ['type', '[\"Normal\",\"Fairy\"]', '__generated_aliasavgatt', '41.25'],\n",
       " ['type', '[\"Water\",\"Poison\"]', '__generated_aliasavgatt', '68.3333333333'],\n",
       " ['type', '[\"Bug\",\"Fighting\"]', '__generated_aliasavgatt', '133.666666667'],\n",
       " ['type', '[\"Fire\",\"Ground\"]', '__generated_aliasavgatt', '80'],\n",
       " ['type', '[\"Water\",\"Psychic\"]', '__generated_aliasavgatt', '79'],\n",
       " ['type', '[\"Grass\",\"Poison\"]', '__generated_aliasavgatt', '68.4285714286'],\n",
       " ['type', '[\"Ghost\",\"Poison\"]', '__generated_aliasavgatt', '50'],\n",
       " ['type', '[\"Electric\",\"Normal\"]', '__generated_aliasavgatt', '46.5'],\n",
       " ['type', '[\"Poison\",\"Water\"]', '__generated_aliasavgatt', '58.6666666667'],\n",
       " ['type', '[\"Poison\",\"Fire\"]', '__generated_aliasavgatt', '54'],\n",
       " ['type', '[\"Poison\",\"Flying\"]', '__generated_aliasavgatt', '71.6666666667'],\n",
       " ['type', '[\"Dragon\",\"Electric\"]', '__generated_aliasavgatt', '150'],\n",
       " ['type', '[\"Rock\",\"Fairy\"]', '__generated_aliasavgatt', '75'],\n",
       " ['type', '[\"Water\",\"Fairy\"]', '__generated_aliasavgatt', '54.75'],\n",
       " ['type', '[\"Psychic\",\"Steel\"]', '__generated_aliasavgatt', '137'],\n",
       " ['type', '[\"Fighting\"]', '__generated_aliasavgatt', '97.4545454545'],\n",
       " ['type', '[\"Normal\"]', '__generated_aliasavgatt', '74.7692307692'],\n",
       " ['type', '[\"Grass\",\"Flying\"]', '__generated_aliasavgatt', '55.5'],\n",
       " ['type', '[\"Poison\",\"Ground\"]', '__generated_aliasavgatt', '97'],\n",
       " ['type', '[\"Dark\",\"Fighting\"]', '__generated_aliasavgatt', '82.5'],\n",
       " ['type', '[\"Psychic\",\"Fighting\"]', '__generated_aliasavgatt', '125'],\n",
       " ['type', '[\"Ground\",\"Rock\"]', '__generated_aliasavgatt', '118.333333333'],\n",
       " ['type', '[\"Ground\",\"Dark\"]', '__generated_aliasavgatt', '90.3333333333'],\n",
       " ['type', '[\"Poison\",\"Dark\"]', '__generated_aliasavgatt', '82'],\n",
       " ['type', '[\"Rock\",\"Psychic\"]', '__generated_aliasavgatt', '75'],\n",
       " ['type', '[\"Normal\",\"Grass\"]', '__generated_aliasavgatt', '80'],\n",
       " ['type', '[\"Rock\",\"Poison\"]', '__generated_aliasavgatt', '53'],\n",
       " ['type', '[\"Bug\"]', '__generated_aliasavgatt', '51'],\n",
       " ['type', '[\"Dark\",\"Dragon\"]', '__generated_aliasavgatt', '89'],\n",
       " ['type', '[\"Psychic\"]', '__generated_aliasavgatt', '58.2857142857'],\n",
       " ['type', '[\"Ground\",\"Psychic\"]', '__generated_aliasavgatt', '55'],\n",
       " ['type', '[\"Bug\",\"Grass\"]', '__generated_aliasavgatt', '73.8333333333'],\n",
       " ['type', '[\"Flying\",\"Dragon\"]', '__generated_aliasavgatt', '50'],\n",
       " ['type', '[\"Water\",\"Flying\"]', '__generated_aliasavgatt', '56.5714285714'],\n",
       " ['type', '[\"Ice\",\"Flying\"]', '__generated_aliasavgatt', '70'],\n",
       " ['type', '[\"Ground\"]', '__generated_aliasavgatt', '92.2666666667'],\n",
       " ['type', '[\"Rock\"]', '__generated_aliasavgatt', '100.909090909'],\n",
       " ['type', '[\"Electric\",\"Steel\"]', '__generated_aliasavgatt', '65.75'],\n",
       " ['type', '[\"Ghost\",\"Ground\"]', '__generated_aliasavgatt', '65'],\n",
       " ['type', '[\"Rock\",\"Dark\"]', '__generated_aliasavgatt', '134'],\n",
       " ['type', '[\"Flying\"]', '__generated_aliasavgatt', '115'],\n",
       " ['type', '[\"Steel\",\"Fairy\"]', '__generated_aliasavgatt', '86.6666666667'],\n",
       " ['type', '[\"Dragon\",\"Psychic\"]', '__generated_aliasavgatt', '85'],\n",
       " ['type', '[\"Grass\",\"Steel\"]', '__generated_aliasavgatt', '108.333333333'],\n",
       " ['type', '[\"Electric\",\"Fairy\"]', '__generated_aliasavgatt', '86.5'],\n",
       " ['type', '[\"Rock\",\"Steel\"]', '__generated_aliasavgatt', '70'],\n",
       " ['type', '[\"Normal\",\"Ground\"]', '__generated_aliasavgatt', '56'],\n",
       " ['type', '[\"Rock\",\"Fighting\"]', '__generated_aliasavgatt', '129'],\n",
       " ['type', '[\"Water\",\"Ghost\"]', '__generated_aliasavgatt', '50'],\n",
       " ['type', '[\"Bug\",\"Flying\"]', '__generated_aliasavgatt', '63.6153846154']]"
      ]
     },
     "execution_count": 14,
     "metadata": {},
     "output_type": "execute_result"
    }
   ],
   "source": [
    "req = aggregations.AggregateRequest().group_by(\"@type\", reducers.avg(\"@att\"))\n",
    "r.ft(\"pokemon\").aggregate(req).rows"
   ]
  },
  {
   "attachments": {},
   "cell_type": "markdown",
   "metadata": {},
   "source": [
    "Tempo di Esecuzione: 26.126 ms"
   ]
  },
  {
   "attachments": {},
   "cell_type": "markdown",
   "metadata": {},
   "source": [
    "### Analisi delle tempistiche delle Query"
   ]
  },
  {
   "attachments": {},
   "cell_type": "markdown",
   "metadata": {},
   "source": [
    "# Contributors\n",
    "Lorenzo Emanuele Avallone 866163\\\n",
    "Mattia Signorelli 852347"
   ]
  }
 ],
 "metadata": {
  "kernelspec": {
   "display_name": "Python 3",
   "language": "python",
   "name": "python3"
  },
  "language_info": {
   "codemirror_mode": {
    "name": "ipython",
    "version": 3
   },
   "file_extension": ".py",
   "mimetype": "text/x-python",
   "name": "python",
   "nbconvert_exporter": "python",
   "pygments_lexer": "ipython3",
   "version": "3.10.6"
  },
  "orig_nbformat": 4
 },
 "nbformat": 4,
 "nbformat_minor": 2
}
