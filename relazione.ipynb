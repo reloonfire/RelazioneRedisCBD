{
 "cells": [
  {
   "attachments": {},
   "cell_type": "markdown",
   "metadata": {},
   "source": [
    "# Introduzione a Redis"
   ]
  },
  {
   "attachments": {},
   "cell_type": "markdown",
   "metadata": {},
   "source": [
    "## Nozioni Base\n",
    "Redis è un in-memory data structure store open source (BSD licensed)usato come database, cache, message broker e streaming engine. Redis dispone di data structures come strings, hashes, lists, sets, sorted sets con diverse queries, bitmaps, hyperloglogs, geospatial indexes, e streams. Redis ha un built-in replica system che permette di creare repliche del medesimo DB, Lua scripting, LRU eviction, transazioni e diversi livelli di on-disk persistence.\n",
    "\n",
    "Per ottenere il massimo delle performance, Redis utilizza un dataset in-memory. In base al caso d'uso, Redis può salvare i dati dumpando periodicamente il dataset su disco, oppure aggiungere ad un log ogni operazione (comando) effettuato.\n",
    "\n",
    "Redis può essere usato su quasi tutti i linguaggi di programmazione disponibili."
   ]
  },
  {
   "attachments": {},
   "cell_type": "markdown",
   "metadata": {},
   "source": [
    "## Chi usa Redis?\n",
    "Le compagnie più note che usano Redis sono:\n",
    "- Twitter\n",
    "- Github\n",
    "- Snapchat\n",
    "- Cragslist\n",
    "- StackOverflow\n",
    "\n",
    "E molte altre ancora."
   ]
  },
  {
   "attachments": {},
   "cell_type": "markdown",
   "metadata": {},
   "source": [
    "## Installazione\n",
    "### Windows\n",
    "Redis non è supportato su Windows, ma si può installare sfruttando la WSL2 (Windows Subsystem for Linux).\n",
    "Con una shell WSL correttamente inizializzata si potranno seguire gli step di installazione su macchina Ubuntu/Debian per installare l'ultima versione di Redis.\n",
    "\n",
    "```bash\n",
    "curl -fsSL https://packages.redis.io/gpg | sudo gpg --dearmor -o /usr/share/keyrings/redis-archive-keyring.gpg\n",
    "\n",
    "echo \"deb [signed-by=/usr/share/keyrings/redis-archive-keyring.gpg] https://packages.redis.io/deb $(lsb_release -cs) main\" | sudo tee /etc/apt/sources.list.d/redis.list\n",
    "\n",
    "sudo apt-get update\n",
    "sudo apt-get install redis\n",
    "```\n",
    "\n",
    "E per avviare il servizio basterà lanciare il comando:\n",
    "```bash\n",
    "sudo service redis-server start\n",
    "```"
   ]
  },
  {
   "attachments": {},
   "cell_type": "markdown",
   "metadata": {},
   "source": [
    "### Linux\n",
    "Avendo in commercio una gran quantità di distribuzioni Linux, ogni package manager di riferimento ha una guida su come installare il pacchetto Redis.\n",
    "Come spiegato nel capitolo per Windows, su sistemi Debian/Ubuntu possiamo aggiungere il Repository APT Ufficiale `packages.redis.io` e installare successivamente il pacchetto:\n",
    "```bash\n",
    "curl -fsSL https://packages.redis.io/gpg | sudo gpg --dearmor -o /usr/share/keyrings/redis-archive-keyring.gpg\n",
    "\n",
    "echo \"deb [signed-by=/usr/share/keyrings/redis-archive-keyring.gpg] https://packages.redis.io/deb $(lsb_release -cs) main\" | sudo tee /etc/apt/sources.list.d/redis.list\n",
    "\n",
    "sudo apt-get update\n",
    "sudo apt-get install redis\n",
    "```\n",
    "\n",
    "Alternativamente possiamo sfruttare il pacchetto Redis disponibile sullo Snapcraft Store e installarlo su tutte le distribuzioni che lo supportano:\n",
    "\n",
    "```bash\n",
    "sudo snap install redis\n",
    "```"
   ]
  },
  {
   "attachments": {},
   "cell_type": "markdown",
   "metadata": {},
   "source": [
    "### MacOS\n",
    "Per installare il pacchetto Redis su dispositivi macOS, sarà necessario in prima battuta installare Brew, un package manager creato per il Sistema Operativo di Cupertino.\n",
    "Una volta installato correttamente si dovrà semplicemente lanciare il comando:\n",
    "```bash\n",
    "brew install redis\n",
    "```\n",
    "\n",
    "Per avviare il servizio si dovrà usare:\n",
    "```bash\n",
    "redis-server\n",
    "```\n",
    "\n",
    "Per fermare il servizio andrà premuto `CTRL-C`"
   ]
  },
  {
   "attachments": {},
   "cell_type": "markdown",
   "metadata": {},
   "source": [
    "## Pro e Contro\n",
    "PRO:\n",
    "\n",
    "- Velocità: Redis è estremamente veloce, in grado di gestire grandi quantità di dati in modo rapido e efficiente, grazie alla sua architettura in memoria.\n",
    "\n",
    "- Scalabilità: Redis è in grado di scalare orizzontalmente, ovvero di aggiungere nodi al cluster per aumentare la capacità di gestione dei dati.\n",
    "\n",
    "- API: Redis offre una vasta gamma di API per supportare la gestione dei dati, tra cui la memorizzazione di dati semplici, liste, set e mappe.\n",
    "\n",
    "- Persistenza dei dati: Redis offre la possibilità di persistere i dati su disco, garantendo la durata dei dati in caso di malfunzionamenti del server.\n",
    "\n",
    "- Architettura semplice: Redis è facile da utilizzare e da configurare, anche per gli utenti meno esperti.\n",
    "\n",
    "CONTRO:\n",
    "\n",
    "- Scalabilità: Anche se Redis è in grado di scalare orizzontalmente, aggiungendo nodi ai cluster, non sfrutta al massimo le capacità della singola macchina. Per questo sono state create versioni multi-thread ad esempio: [cachegrand.io](https://cachegrand.io/)\n",
    "\n",
    "- Capacità limitata: Poiché Redis utilizza la memoria per archiviare i dati, la capacità di archiviazione è limitata dalla quantità di memoria disponibile sul server.\n",
    "\n",
    "- Nessun supporto per SQL: Redis non supporta SQL, quindi non è adatto per applicazioni che richiedono complesse operazioni di query.\n",
    "\n",
    "- Persistenza dei dati: Anche se Redis offre la possibilità di persistere i dati su disco, questa funzionalità può rallentare le prestazioni del server.\n",
    "\n",
    "- Nessun supporto per transazioni complesse: Redis non supporta le transazioni complesse, il che lo rende meno adatto per le applicazioni che richiedono operazioni di transazione complesse e transazioni ACID."
   ]
  },
  {
   "attachments": {},
   "cell_type": "markdown",
   "metadata": {},
   "source": [
    "## Librerie del DBMS\n",
    "Quasi tutti i linguaggi di programmazione hanno disponibile un porting per connettersi al servizio Redis, lavorando con Python andremo nel dettaglio di quest'ultima.\n",
    "### redis-py\n",
    "**Installazione**\n",
    "\n",
    "Per installare redis-py:\n",
    "```bash\n",
    "pip install redis-py\n",
    "```\n",
    "\n",
    "Per migliorare le performance si può utilizzare installa il pacchetto con il supporto ad `hiredis`, che offre un Response Parser compilato, che per molte situazioni richiede 0 modifiche.\n",
    "\n",
    "```bash\n",
    "pip install redis[hiredis]\n",
    "```"
   ]
  },
  {
   "attachments": {},
   "cell_type": "markdown",
   "metadata": {},
   "source": [
    "Link alla documentazione di [redis-py](https://redis-py.readthedocs.io/en/stable/)"
   ]
  },
  {
   "cell_type": "code",
   "execution_count": 1,
   "metadata": {},
   "outputs": [
    {
     "name": "stdout",
     "output_type": "stream",
     "text": [
      "Defaulting to user installation because normal site-packages is not writeable\n",
      "Requirement already satisfied: redis in /Users/lavallone/Library/Python/3.9/lib/python/site-packages (4.5.4)\n",
      "Requirement already satisfied: async-timeout>=4.0.2 in /Users/lavallone/Library/Python/3.9/lib/python/site-packages (from redis) (4.0.2)\n",
      "\u001b[33mWARNING: You are using pip version 21.2.4; however, version 23.1.2 is available.\n",
      "You should consider upgrading via the '/Library/Developer/CommandLineTools/usr/bin/python3 -m pip install --upgrade pip' command.\u001b[0m\n"
     ]
    }
   ],
   "source": [
    "import sys\n",
    "!{sys.executable} -m pip install redis"
   ]
  },
  {
   "attachments": {},
   "cell_type": "markdown",
   "metadata": {},
   "source": [
    "## Creazione e Connessione al DB\n",
    "Per facilitare lo sviluppo su più sistemi operativi, questo progetto dispone di un docker-compose.yml file, contenente il necessario per avviare un'istanza redis con due User Interfaces, quali `redis-cli` e `RedisInsight`.\n",
    "\n",
    "Per avviare il servizio si può lanciare il comando:\n",
    "```bash\n",
    "make start\n",
    "```"
   ]
  },
  {
   "attachments": {},
   "cell_type": "markdown",
   "metadata": {},
   "source": [
    "### Connessione al DB tramite redis-py"
   ]
  },
  {
   "cell_type": "code",
   "execution_count": 2,
   "metadata": {},
   "outputs": [],
   "source": [
    "import redis\n",
    "\n",
    "r = redis.Redis(host='localhost', port=6379, decode_responses=True)"
   ]
  },
  {
   "attachments": {},
   "cell_type": "markdown",
   "metadata": {},
   "source": [
    "## Operazioni CRUD\n",
    "In Redis, le operazioni CRUD (Create, Read, Update, Delete) sono eseguite tramite comandi specifici per la manipolazione dei dati.\n",
    "\n",
    "Ecco una panoramica delle operazioni CRUD in Redis:\n",
    "\n",
    "- CREATE: L'operazione di creazione di un nuovo dato in Redis viene eseguita utilizzando il comando SET. Ad esempio, per creare un nuovo valore \"valore1\" associato alla chiave \"chiave1\", si può utilizzare il comando SET chiave1 valore1."
   ]
  },
  {
   "cell_type": "code",
   "execution_count": 3,
   "metadata": {},
   "outputs": [
    {
     "data": {
      "text/plain": [
       "True"
      ]
     },
     "execution_count": 3,
     "metadata": {},
     "output_type": "execute_result"
    }
   ],
   "source": [
    "r.set('nome', 'Marco')"
   ]
  },
  {
   "attachments": {},
   "cell_type": "markdown",
   "metadata": {},
   "source": [
    "- READ: Per leggere i dati associati a una chiave, si può utilizzare il comando GET. Ad esempio, per leggere il valore associato alla chiave \"chiave1\", si può utilizzare il comando GET chiave1."
   ]
  },
  {
   "cell_type": "code",
   "execution_count": 4,
   "metadata": {},
   "outputs": [
    {
     "data": {
      "text/plain": [
       "'Marco'"
      ]
     },
     "execution_count": 4,
     "metadata": {},
     "output_type": "execute_result"
    }
   ],
   "source": [
    "r.get('nome')"
   ]
  },
  {
   "attachments": {},
   "cell_type": "markdown",
   "metadata": {},
   "source": [
    "- UPDATE: L'operazione di aggiornamento di un dato esistente in Redis viene eseguita utilizzando il comando SET. Ad esempio, per aggiornare il valore associato alla chiave \"chiave1\" con il nuovo valore \"valore2\", si può utilizzare il comando SET chiave1 valore2."
   ]
  },
  {
   "cell_type": "code",
   "execution_count": 5,
   "metadata": {},
   "outputs": [
    {
     "data": {
      "text/plain": [
       "True"
      ]
     },
     "execution_count": 5,
     "metadata": {},
     "output_type": "execute_result"
    }
   ],
   "source": [
    "r.set('nome', 'Francesco')"
   ]
  },
  {
   "attachments": {},
   "cell_type": "markdown",
   "metadata": {},
   "source": [
    "\n",
    "- DELETE: Per eliminare una chiave e il valore associato, si può utilizzare il comando DEL. Ad esempio, per eliminare la chiave \"chiave1\" e il valore associato ad essa, si può utilizzare il comando DEL chiave1."
   ]
  },
  {
   "cell_type": "code",
   "execution_count": 7,
   "metadata": {},
   "outputs": [
    {
     "data": {
      "text/plain": [
       "1"
      ]
     },
     "execution_count": 7,
     "metadata": {},
     "output_type": "execute_result"
    }
   ],
   "source": [
    "r.delete('nome')"
   ]
  },
  {
   "attachments": {},
   "cell_type": "markdown",
   "metadata": {},
   "source": [
    "Inoltre, Redis offre anche altri comandi per manipolare i dati in modo più specifico, come ad esempio il comando INCR per incrementare il valore numerico di una chiave, il comando LPUSH per aggiungere un valore a una lista, e il comando SADD per aggiungere un elemento a un set."
   ]
  },
  {
   "attachments": {},
   "cell_type": "markdown",
   "metadata": {},
   "source": [
    "## Comparazione con i DBMS visti a lezione\n",
    "\n",
    "Redis è un DB NoSQL che offre velocità, affidabilità e prestazioni, posto a confronto con altri DB abbiamo alcune differenze:\n",
    "\n",
    "- Nel DB in analisi la differenza principale nel salvataggio dei dati in memoria è che questi non vengono salvati nella memoria secondaria ma bensì nella memoria primaria rendendo le operazioni di lettura e di scrittura molto veloci \n",
    "- La struttura delle query è molto semplice e varia in base alla versione di Redis che si utilizza: bisogna definire la funzione da eseguire e successivamente i parametri."
   ]
  },
  {
   "cell_type": "code",
   "execution_count": 8,
   "metadata": {},
   "outputs": [
    {
     "data": {
      "text/plain": [
       "6"
      ]
     },
     "execution_count": 8,
     "metadata": {},
     "output_type": "execute_result"
    }
   ],
   "source": [
    "r.rpush(\"mylist\", 1, 2, 3, 4, 5, \"hello world\")"
   ]
  },
  {
   "attachments": {},
   "cell_type": "markdown",
   "metadata": {},
   "source": [
    "&emsp;&emsp;&ensp;La funzione sopra indicata permette di eseguire una push in una lista aggiungendo sei elementi, &emsp;&emsp;&ensp;per poter vedere gli elementi all'interno di una lista basta semplicemente eseguire:"
   ]
  },
  {
   "cell_type": "code",
   "execution_count": 9,
   "metadata": {},
   "outputs": [
    {
     "data": {
      "text/plain": [
       "['1', '2', '3', '4', '5', 'hello world']"
      ]
     },
     "execution_count": 9,
     "metadata": {},
     "output_type": "execute_result"
    }
   ],
   "source": [
    "r.lrange(\"mylist\", 0, -1)"
   ]
  },
  {
   "attachments": {},
   "cell_type": "markdown",
   "metadata": {},
   "source": [
    "&emsp;&emsp;&ensp;Da questi esempi (non complessi) si può notare la semplicità e la facilità di uso di questo DB. In &emsp;&emsp;&ensp;poco tempo con il supporto della documentazione si può imparare e si può utilizzare al meglio &emsp;&emsp;&ensp;questo strumento.\n",
    "- infine la documentazione presente sul sito di <link href=\"redis.io\">redis.io</link> è disponibile solamente in inglese, permette di seguire l'utente dall'installazione all'utilizzo completo del DataBase e consente di imparare tutte le nozioni base (e anche non) in poco tempo in una guida descritta semplicemente e passo passo. "
   ]
  },
  {
   "attachments": {},
   "cell_type": "markdown",
   "metadata": {},
   "source": [
    "## Esempi di query"
   ]
  },
  {
   "attachments": {},
   "cell_type": "markdown",
   "metadata": {},
   "source": [
    "### Analisi delle tempistiche delle Query"
   ]
  },
  {
   "attachments": {},
   "cell_type": "markdown",
   "metadata": {},
   "source": [
    "# Contributors\n",
    "Lorenzo Emanuele Avallone 866163\\\n",
    "Mattia Signorelli 852347"
   ]
  }
 ],
 "metadata": {
  "kernelspec": {
   "display_name": "Python 3",
   "language": "python",
   "name": "python3"
  },
  "language_info": {
   "codemirror_mode": {
    "name": "ipython",
    "version": 3
   },
   "file_extension": ".py",
   "mimetype": "text/x-python",
   "name": "python",
   "nbconvert_exporter": "python",
   "pygments_lexer": "ipython3",
   "version": "3.9.6"
  },
  "orig_nbformat": 4
 },
 "nbformat": 4,
 "nbformat_minor": 2
}
