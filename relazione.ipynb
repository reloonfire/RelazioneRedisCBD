{
 "cells": [
  {
   "attachments": {},
   "cell_type": "markdown",
   "metadata": {},
   "source": [
    "# Introduzione a Redis"
   ]
  },
  {
   "attachments": {},
   "cell_type": "markdown",
   "metadata": {},
   "source": [
    "## Nozioni Base\n",
    "Redis e' un in-memory open source DBMS, rilasciato sotto licenza BSD, che viene generalmente utilizzato anche come cache, message broker / pub-sub e per processare stream di dati. Redis dispone di data structures come strings, hashes, lists, sets, sorted sets con diverse queries, bitmaps, hyperloglogs, geospatial indexes, e streams. Redis ha un built-in replica system che permette di creare repliche del medesimo DB, Lua scripting, LRU eviction, transazioni e diversi livelli di on-disk persistence.\n",
    "\n",
    "Redis può essere usato su quasi tutti i linguaggi di programmazione disponibili tramite framework implementati durante il corso degli anni."
   ]
  },
  {
   "attachments": {},
   "cell_type": "markdown",
   "metadata": {},
   "source": [
    "## Chi usa Redis?\n",
    "Redis e' ampliamente utilizzato, direttamente o indirettamente, da quasi ogni azienda sul mercato, ad esempio come cache di dati per database relazionali, come database non relazionale sfruttando le sue funzionalita' di Key-Value store ricevendo dati da stream esterni, e' utilizzato da grandi aziende come backend per le CDN (Content Distribution Network) come CloudFlare, ad oggi utilizzate on quasi qualsiasi infrastruttura di medio / alto livello, per accelerare la fornitura di contenuti ai browser e/o ai dispositivi mobile, e' utilizzato per processare stream di dati per AI e ML da aziende come ChatGPT, e via dicendo.\n",
    "\n",
    "Un elenco non esaustivo di aziende che ad oggi sfruttano Redis, in aggiunta a quelle sopra citate, include:\n",
    "- Microsoft\n",
    "- Google\n",
    "- Amazon\n",
    "- Twitter\n",
    "- Github\n",
    "- Snapchat, notoriamente grande fan di Redis al punto di acquisire KeyDB, un competitor di Redis, per avere una soluzione in-house\n",
    "- Stackoverflow\n",
    "\n",
    "E altre ancora"
   ]
  },
  {
   "attachments": {},
   "cell_type": "markdown",
   "metadata": {},
   "source": [
    "## Installazione\n",
    "### Windows\n",
    "Redis non è supportato su Windows, ma si può installare sfruttando la WSL2 (Windows Subsystem for Linux)."
   ]
  },
  {
   "attachments": {},
   "cell_type": "markdown",
   "metadata": {},
   "source": [
    "### Linux\n",
    "Avendo in commercio una gran quantità di distribuzioni Linux, ogni distribuzione ha una guida di riferimento su come installare il pacchetto Redis.\n",
    "Su sistemi Debian/Ubuntu possiamo aggiungere il Repository APT Ufficiale `packages.redis.io` e installare successivamente il pacchetto:\n",
    "```bash\n",
    "curl -fsSL https://packages.redis.io/gpg | sudo gpg --dearmor -o /usr/share/keyrings/redis-archive-keyring.gpg\n",
    "\n",
    "echo \"deb [signed-by=/usr/share/keyrings/redis-archive-keyring.gpg] https://packages.redis.io/deb $(lsb_release -cs) main\" | sudo tee /etc/apt/sources.list.d/redis.list\n",
    "\n",
    "sudo apt-get update\n",
    "sudo apt-get install redis\n",
    "```\n",
    "Possiamo sfruttare questi comandi per installare la versione WSL anche su Windows.\n",
    "\n",
    "Alternativamente possiamo sfruttare il pacchetto Redis disponibile sullo Snapcraft Store e installarlo su tutte le distribuzioni che lo supportano:\n",
    "\n",
    "```bash\n",
    "sudo snap install redis\n",
    "```"
   ]
  },
  {
   "attachments": {},
   "cell_type": "markdown",
   "metadata": {},
   "source": [
    "### MacOS\n",
    "Per installare il pacchetto Redis su dispositivi macOS, sarà necessario in prima battuta installare Brew, un package manager creato per il Sistema Operativo di Cupertino.\n",
    "Una volta installato correttamente si dovrà semplicemente lanciare il comando:\n",
    "```bash\n",
    "brew install redis\n",
    "```\n",
    "\n",
    "Per avviare il servizio si dovrà usare:\n",
    "```bash\n",
    "redis-server\n",
    "```\n",
    "\n",
    "Per fermare il servizio andrà premuto `CTRL-C`"
   ]
  },
  {
   "attachments": {},
   "cell_type": "markdown",
   "metadata": {},
   "source": [
    "## Pro e Contro\n",
    "PRO:\n",
    "\n",
    "- Velocità: Redis è estremamente performante, in grado di gestire grandi quantità di dati in modo rapido e efficiente, grazie alla sua architettura in memoria.\n",
    "\n",
    "- Scalabilità: Redis è in grado di scalare orizzontalmente, ovvero di aggiungere nodi al cluster per aumentare la capacità di gestione dei dati.\n",
    "\n",
    "- API: Redis offre una vasta gamma di API per supportare la gestione dei dati, tra cui la memorizzazione di dati semplici, liste, set e mappe.\n",
    "\n",
    "- Persistenza dei dati: Redis offre la possibilità di persistere i dati su disco, garantendo la durata dei dati in caso di malfunzionamenti del server.\n",
    "\n",
    "- Architettura semplice: Redis è facile da utilizzare e da configurare, anche per gli utenti meno esperti.\n",
    "\n",
    "CONTRO:\n",
    "\n",
    "- Scalabilità: Anche se Redis è in grado di scalare orizzontalmente, aggiungendo nodi ai cluster, non sfrutta al massimo le capacità della singola macchina. Per questo sono state create versioni multi-thread ad esempio: [cachegrand.io](https://cachegrand.io/)\n",
    "\n",
    "- Capacità limitata: Poiché Redis utilizza la memoria per archiviare i dati, la capacità di archiviazione è limitata dalla quantità di memoria disponibile sul server.\n",
    "\n",
    "- Nessun supporto per SQL: Redis non supporta SQL, quindi non è adatto per applicazioni che richiedono complesse operazioni di query, sotto viene presentato un modulo esterno chiamato RediSearch che ci permetterà di avere delle simil queries.\n",
    "\n",
    "- Nessun supporto per transazioni complesse: Redis non supporta le transazioni complesse, il che lo rende meno adatto per le applicazioni che richiedono operazioni di transazione complesse e transazioni ACID, le uniche transazioni supportate sono semplici sequenze di comandi."
   ]
  },
  {
   "attachments": {},
   "cell_type": "markdown",
   "metadata": {},
   "source": [
    "## Librerie del DBMS\n",
    "Quasi tutti i linguaggi di programmazione hanno disponibile un porting per connettersi al servizio Redis, lavorando con Python andremo nel dettaglio di quest'ultima.\n",
    "### redis-py\n",
    "**Installazione**\n",
    "\n",
    "Per installare redis-py:\n",
    "```bash\n",
    "pip install redis-py\n",
    "```\n",
    "\n",
    "Per migliorare le performance si può utilizzare installa il pacchetto con il supporto ad `hiredis`, che offre un Response Parser compilato, che per molte situazioni richiede 0 modifiche.\n",
    "\n",
    "```bash\n",
    "pip install redis[hiredis]\n",
    "```"
   ]
  },
  {
   "attachments": {},
   "cell_type": "markdown",
   "metadata": {},
   "source": [
    "Link alla documentazione di [redis-py](https://redis-py.readthedocs.io/en/stable/)"
   ]
  },
  {
   "attachments": {},
   "cell_type": "markdown",
   "metadata": {},
   "source": [
    "Installazione di redis-py su Jupiter:"
   ]
  },
  {
   "cell_type": "code",
   "execution_count": 1,
   "metadata": {},
   "outputs": [
    {
     "name": "stdout",
     "output_type": "stream",
     "text": [
      "Defaulting to user installation because normal site-packages is not writeable\n",
      "Requirement already satisfied: redis in /home/reloonfire/.local/lib/python3.10/site-packages (4.5.5)\n",
      "Requirement already satisfied: async-timeout>=4.0.2 in /home/reloonfire/.local/lib/python3.10/site-packages (from redis) (4.0.2)\n",
      "Note: you may need to restart the kernel to use updated packages.\n"
     ]
    }
   ],
   "source": [
    "%pip install redis"
   ]
  },
  {
   "attachments": {},
   "cell_type": "markdown",
   "metadata": {},
   "source": [
    "## Creazione e Connessione al DB\n",
    "Per facilitare lo sviluppo su più sistemi operativi, questo progetto dispone di un docker-compose.yml file, contenente il necessario per avviare un'istanza redis con due User Interfaces, quali `redis-cli` e `RedisInsight`.\n",
    "\n",
    "Per avviare il servizio si può lanciare il comando:\n",
    "```bash\n",
    "make start\n",
    "```"
   ]
  },
  {
   "attachments": {},
   "cell_type": "markdown",
   "metadata": {},
   "source": [
    "### Connessione al DB tramite redis-py"
   ]
  },
  {
   "cell_type": "code",
   "execution_count": 2,
   "metadata": {},
   "outputs": [],
   "source": [
    "import redis\n",
    "from redis.commands.json.path import Path\n",
    "from redis.commands.search.field import TextField, NumericField, VectorField\n",
    "from redis.commands.search.indexDefinition import IndexDefinition, IndexType\n",
    "\n",
    "r = redis.Redis(host='localhost', port=6379, decode_responses=True)"
   ]
  },
  {
   "attachments": {},
   "cell_type": "markdown",
   "metadata": {},
   "source": [
    "## Operazioni CRUD\n",
    "In Redis, le operazioni CRUD (Create, Read, Update, Delete) sono eseguite tramite comandi specifici per la manipolazione dei dati.\n",
    "\n",
    "Ecco una panoramica delle operazioni CRUD in Redis:\n",
    "\n",
    "- CREATE: L'operazione di creazione di un nuovo dato in Redis viene eseguita utilizzando il comando SET. Ad esempio, per creare un nuovo valore \"valore1\" associato alla chiave \"chiave1\", si può utilizzare il comando SET chiave1 valore1."
   ]
  },
  {
   "cell_type": "code",
   "execution_count": 3,
   "metadata": {},
   "outputs": [
    {
     "data": {
      "text/plain": [
       "True"
      ]
     },
     "execution_count": 3,
     "metadata": {},
     "output_type": "execute_result"
    }
   ],
   "source": [
    "r.set('nome', 'Marco')"
   ]
  },
  {
   "attachments": {},
   "cell_type": "markdown",
   "metadata": {},
   "source": [
    "- READ: Per leggere i dati associati a una chiave, si può utilizzare il comando GET. Ad esempio, per leggere il valore associato alla chiave \"chiave1\", si può utilizzare il comando GET chiave1."
   ]
  },
  {
   "cell_type": "code",
   "execution_count": 4,
   "metadata": {},
   "outputs": [
    {
     "data": {
      "text/plain": [
       "'Marco'"
      ]
     },
     "execution_count": 4,
     "metadata": {},
     "output_type": "execute_result"
    }
   ],
   "source": [
    "r.get('nome')"
   ]
  },
  {
   "attachments": {},
   "cell_type": "markdown",
   "metadata": {},
   "source": [
    "- UPDATE: L'operazione di aggiornamento di un dato esistente in Redis viene eseguita utilizzando il comando SET. Ad esempio, per aggiornare il valore associato alla chiave \"chiave1\" con il nuovo valore \"valore2\", si può utilizzare il comando SET chiave1 valore2."
   ]
  },
  {
   "cell_type": "code",
   "execution_count": 5,
   "metadata": {},
   "outputs": [
    {
     "data": {
      "text/plain": [
       "True"
      ]
     },
     "execution_count": 5,
     "metadata": {},
     "output_type": "execute_result"
    }
   ],
   "source": [
    "r.set('nome', 'Francesco')"
   ]
  },
  {
   "attachments": {},
   "cell_type": "markdown",
   "metadata": {},
   "source": [
    "\n",
    "- DELETE: Per eliminare una chiave e il valore associato, si può utilizzare il comando DEL. Ad esempio, per eliminare la chiave \"chiave1\" e il valore associato ad essa, si può utilizzare il comando DEL chiave1."
   ]
  },
  {
   "cell_type": "code",
   "execution_count": 6,
   "metadata": {},
   "outputs": [
    {
     "data": {
      "text/plain": [
       "1"
      ]
     },
     "execution_count": 6,
     "metadata": {},
     "output_type": "execute_result"
    }
   ],
   "source": [
    "r.delete('nome')"
   ]
  },
  {
   "attachments": {},
   "cell_type": "markdown",
   "metadata": {},
   "source": [
    "Inoltre, Redis offre anche altri comandi per manipolare i dati in modo più specifico, come ad esempio il comando INCR per incrementare il valore numerico di una chiave, il comando LPUSH per aggiungere un valore a una lista, e il comando SADD per aggiungere un elemento a un set."
   ]
  },
  {
   "attachments": {},
   "cell_type": "markdown",
   "metadata": {},
   "source": [
    "## Comparazione con i DBMS visti a lezione\n",
    "\n",
    "Redis è un DB Key-Value che offre velocità, affidabilità e prestazioni, posto a confronto con altri DB abbiamo alcune differenze:\n",
    "\n",
    "- Nel DB in analisi la differenza principale nel salvataggio dei dati in memoria è che questi non vengono salvati nella memoria secondaria ma bensì nella memoria primaria rendendo le operazioni di lettura e di scrittura molto veloci \n",
    "- La struttura delle query è molto semplice e varia in base alla versione di Redis che si utilizza: bisogna definire la funzione da eseguire e successivamente i parametri."
   ]
  },
  {
   "cell_type": "code",
   "execution_count": 7,
   "metadata": {},
   "outputs": [
    {
     "data": {
      "text/plain": [
       "6"
      ]
     },
     "execution_count": 7,
     "metadata": {},
     "output_type": "execute_result"
    }
   ],
   "source": [
    "r.rpush(\"mylist\", 1, 2, 3, 4, 5, \"hello world\")\n",
    "# RPUSH mylist 1 2 3 4 5 \"hello world\""
   ]
  },
  {
   "attachments": {},
   "cell_type": "markdown",
   "metadata": {},
   "source": [
    "&emsp;&emsp;&ensp;La funzione sopra indicata permette di eseguire una push in una lista aggiungendo sei elementi, per poter vedere gli elementi all'interno di una lista basta semplicemente eseguire:"
   ]
  },
  {
   "cell_type": "code",
   "execution_count": 8,
   "metadata": {},
   "outputs": [
    {
     "data": {
      "text/plain": [
       "['1', '2', '3', '4', '5', 'hello world']"
      ]
     },
     "execution_count": 8,
     "metadata": {},
     "output_type": "execute_result"
    }
   ],
   "source": [
    "r.lrange(\"mylist\", 0, -1)"
   ]
  },
  {
   "attachments": {},
   "cell_type": "markdown",
   "metadata": {},
   "source": [
    "Da questi esempi (non complessi) si può notare la semplicità e la facilità di uso di questo DB. \n",
    "In poco tempo con il supporto della documentazione si può imparare e si può utilizzare al meglio questo strumento.\n",
    "Infine la documentazione presente sul sito di <link href=\"redis.io\">redis.io</link> è disponibile solamente in inglese, permette di seguire l'utente dall'installazione all'utilizzo completo del Database e consente di imparare tutte le nozioni base (e anche non) in poco tempo in una guida descritta semplicemente e passo passo. "
   ]
  },
  {
   "attachments": {},
   "cell_type": "markdown",
   "metadata": {},
   "source": [
    "## Esempi di query (Complesse)\n",
    "E' importante notare che Redis non è un database relazionale tradizionale con un linguaggio di query completo come SQL. Redis è un database di strutture dati in memoria che offre un set di comandi per la manipolazione di essi.\n",
    "\n",
    "Nel contesto di Redis, le query complesse sono solitamente realizzate concatenando i comandi disponibili nel Redis Command Language. Vengono forniti un insieme di comandi predefiniti per interagire con Redis, come SET, GET, HSET, HGET, ecc., che possono essere utilizzati per leggere, scrivere o manipolare i dati all'interno delle strutture di dati come stringhe, liste, set, hash, ecc.\n",
    "\n",
    "Redis fornisce inoltre un sistema di scripting integrato, tramite il linguaggio Lua, che permette di eseguire più comandi e creare logiche complesse.\n",
    "\n",
    "Ai fini del progetto verranno introdotto due moduli esterni, ma disponibili all'interno della docker image <code>redis-stack</code> denominati [RediSearch](https://redis.io/docs/stack/search) e [RedisJSON](https://redis.io/docs/stack/json/), redis-stack contiene altri moduli per il supporto a Grafi e TimeSeries."
   ]
  },
  {
   "attachments": {},
   "cell_type": "markdown",
   "metadata": {},
   "source": [
    "## Introduzione ai Moduli Esterni\n",
    "RediSearch è un modulo open source di Redis che abilita all'uso di query, secondary indexing e full-text search sul DB. Queste funzionalità permetto queries su più fields, aggregation, exact phrase matching, come visto anche all'interno di ElasticSearch.\n",
    "Tramite questo modulo possiamo dunque simulare all'interno di redis un comportamento simile a quello di ES.\n",
    "\n",
    "Il modulo RedisJSON abilita al supporto per i JSON, permettendo di salvare, aggiornare e recuperare dei JSON values all'interno del DB, in modo similare ai tipi già coperti da Redis. RedisJSON funziona autoamaticamente con RediSearch permettendo di creare indici e effettuare query su documenti JSON."
   ]
  },
  {
   "attachments": {},
   "cell_type": "markdown",
   "metadata": {},
   "source": [
    "Per illustrare al meglio le qualità di Redis, abbiamo deciso di utilizzare i dati JSON utilizzati durante le lezioni dai professori, al fine di confrontarne la velocità di esecuzione e la complessità nella creazione delle query."
   ]
  },
  {
   "attachments": {},
   "cell_type": "markdown",
   "metadata": {},
   "source": [
    "Il codice seguente rappresenta la definizione dello schema del JSON nel quale vengono specificati gli attributi di ciascun campo. Per definire i valori nidificati all'interno di JSON bisogna, ad esempio ,  scrivere $.name.english per definire\"english\" dentro a \"name\".\n",
    "All'interno del file JSON è presente il campo \"Type\" che è un array di stringhe, per poterlo salvare utilizziamo TextField e i dati presenti saranno salvati come un array."
   ]
  },
  {
   "cell_type": "code",
   "execution_count": 9,
   "metadata": {},
   "outputs": [],
   "source": [
    "## Creiamo lo schema per l'indice\n",
    "schema = (NumericField('$.id', as_name='id'),\n",
    "          TextField('$.name.english', as_name='english'),\n",
    "          TextField('$.name.japanese', as_name='japanese'),\n",
    "          TextField('$.name.chinese', as_name='chinese'),\n",
    "          TextField('$.name.french', as_name='french'),\n",
    "          TextField('$.type', as_name='type'),\n",
    "          NumericField('$.base.HP', as_name='hp'),\n",
    "          NumericField('$.base.Attack', as_name='att'),\n",
    "          NumericField('$.base.Defense', as_name='def'),\n",
    "          NumericField('$.base.Sp. Attack', as_name='spatt'),\n",
    "          NumericField('$.base.Sp. Defense', as_name='spdef'),\n",
    "          NumericField('$.base.Speed', as_name='spd'))\n",
    "\n",
    "## Creiamo l'indice se non esiste\n",
    "try:\n",
    "    r.ft(\"pokemon\").create_index(schema, definition=IndexDefinition(\n",
    "        prefix=['pokemon:'], index_type=IndexType.JSON))\n",
    "except:\n",
    "    # passa oltre se esiste già\n",
    "    pass\n",
    "\n",
    "from redis.commands.search.query import NumericFilter, Query\n",
    "import redis.commands.search.aggregation as aggregations\n",
    "import redis.commands.search.reducers as reducers\n",
    "import time"
   ]
  },
  {
   "attachments": {},
   "cell_type": "markdown",
   "metadata": {},
   "source": [
    "Ai fini della leggibilità sono stati ridotti a 3 il numero di risultati visualizzabili."
   ]
  },
  {
   "attachments": {},
   "cell_type": "markdown",
   "metadata": {},
   "source": [
    "- Cerca tutti i pokemon che contengono Pika nel loro nome:"
   ]
  },
  {
   "cell_type": "code",
   "execution_count": 10,
   "metadata": {},
   "outputs": [
    {
     "data": {
      "text/plain": [
       "[Document {'id': 'pokemon:25', 'payload': None, 'json': '{\"id\":25,\"name\":{\"english\":\"Pikachu\",\"japanese\":\"ピカチュウ\",\"chinese\":\"皮卡丘\",\"french\":\"Pikachu\"},\"type\":[\"Electric\"],\"base\":{\"HP\":35,\"Attack\":55,\"Defense\":40,\"Sp. Attack\":50,\"Sp. Defense\":50,\"Speed\":90}}'}]"
      ]
     },
     "execution_count": 10,
     "metadata": {},
     "output_type": "execute_result"
    }
   ],
   "source": [
    "r.ft(\"pokemon\").search(\"Pika*\").docs"
   ]
  },
  {
   "attachments": {},
   "cell_type": "markdown",
   "metadata": {},
   "source": [
    "La query Redis sopra mostrata permette la ricerca di tutti i Pokemon che iniziano con \"Pika\".\n",
    "Utilizzando la wildcard '*' alla fine del termine di ricerca \"Pika\" la query restituirà tutti i documenti che iniziano con \"Pika\"."
   ]
  },
  {
   "attachments": {},
   "cell_type": "markdown",
   "metadata": {},
   "source": [
    "- Cerca tutti i pokemon di tipo Fuoco (contenendo anche i tipi misti come Fuoco-Volante)"
   ]
  },
  {
   "cell_type": "code",
   "execution_count": 11,
   "metadata": {},
   "outputs": [
    {
     "data": {
      "text/plain": [
       "[Document {'id': 'pokemon:4', 'payload': None, 'json': '{\"id\":4,\"name\":{\"english\":\"Charmander\",\"japanese\":\"ヒトカゲ\",\"chinese\":\"小火龙\",\"french\":\"Salamèche\"},\"type\":[\"Fire\"],\"base\":{\"HP\":39,\"Attack\":52,\"Defense\":43,\"Sp. Attack\":60,\"Sp. Defense\":50,\"Speed\":65}}'},\n",
       " Document {'id': 'pokemon:5', 'payload': None, 'json': '{\"id\":5,\"name\":{\"english\":\"Charmeleon\",\"japanese\":\"リザード\",\"chinese\":\"火恐龙\",\"french\":\"Reptincel\"},\"type\":[\"Fire\"],\"base\":{\"HP\":58,\"Attack\":64,\"Defense\":58,\"Sp. Attack\":80,\"Sp. Defense\":65,\"Speed\":80}}'},\n",
       " Document {'id': 'pokemon:6', 'payload': None, 'json': '{\"id\":6,\"name\":{\"english\":\"Charizard\",\"japanese\":\"リザードン\",\"chinese\":\"喷火龙\",\"french\":\"Dracaufeu\"},\"type\":[\"Fire\",\"Flying\"],\"base\":{\"HP\":78,\"Attack\":84,\"Defense\":78,\"Sp. Attack\":109,\"Sp. Defense\":85,\"Speed\":100}}'}]"
      ]
     },
     "execution_count": 11,
     "metadata": {},
     "output_type": "execute_result"
    }
   ],
   "source": [
    "query = Query(\"@type:Fire\").paging(0, 3)\n",
    "r.ft(\"pokemon\").search(query).docs"
   ]
  },
  {
   "attachments": {},
   "cell_type": "markdown",
   "metadata": {},
   "source": [
    "La query per la ricerca di tutti i pokemon fuoco effettua una range query ritornando qualsiasi pokemon abbia il tipo \"Fire\" all'interno del campo \"Type\"."
   ]
  },
  {
   "attachments": {},
   "cell_type": "markdown",
   "metadata": {},
   "source": [
    "- Cerca i primi 10 pokemon che hanno un attacco compreso fra 50 e 100 (estremi inclusi)"
   ]
  },
  {
   "cell_type": "code",
   "execution_count": 12,
   "metadata": {},
   "outputs": [
    {
     "data": {
      "text/plain": [
       "[Document {'id': 'pokemon:2', 'payload': None, 'english': 'Ivysaur', 'att': '62'},\n",
       " Document {'id': 'pokemon:3', 'payload': None, 'english': 'Venusaur', 'att': '82'},\n",
       " Document {'id': 'pokemon:4', 'payload': None, 'english': 'Charmander', 'att': '52'}]"
      ]
     },
     "execution_count": 12,
     "metadata": {},
     "output_type": "execute_result"
    }
   ],
   "source": [
    "query = Query(\"@att:[50 100]\").return_fields(\"english\", \"att\").paging(0, 3)\n",
    "r.ft(\"pokemon\").search(query).docs"
   ]
  },
  {
   "attachments": {},
   "cell_type": "markdown",
   "metadata": {},
   "source": [
    "La query definita consente di trovare i primi 10 pokemon (utilizzando il metodo .pagin(0, 10)) che hanno un attacco compreso fra 50 e 100 (Query(\"@att:[50 100]\")).\n",
    "Il metodo return:fields(\"english\", \"att\") è stato aggiunto per semplificare la lettura del risultato."
   ]
  },
  {
   "attachments": {},
   "cell_type": "markdown",
   "metadata": {},
   "source": [
    "- Trovare tutti i pokémon con difesa minore di 90 o di tipo “Fire”. Proiettare solo l’attacco, il nome in inglese e i tipi. Limitare i risultati da visualizzare a 10."
   ]
  },
  {
   "cell_type": "code",
   "execution_count": 13,
   "metadata": {},
   "outputs": [
    {
     "data": {
      "text/plain": [
       "[Document {'id': 'pokemon:4', 'payload': None, 'english': 'Charmander', 'type': '[\"Fire\"]', 'att': '52'},\n",
       " Document {'id': 'pokemon:5', 'payload': None, 'english': 'Charmeleon', 'type': '[\"Fire\"]', 'att': '64'},\n",
       " Document {'id': 'pokemon:6', 'payload': None, 'english': 'Charizard', 'type': '[\"Fire\",\"Flying\"]', 'att': '84'}]"
      ]
     },
     "execution_count": 13,
     "metadata": {},
     "output_type": "execute_result"
    }
   ],
   "source": [
    "query = Query(\"@def:[0 90] | @type:Fire\").return_fields(\"english\", \"type\", \"att\").paging(0, 3)\n",
    "r.ft(\"pokemon\").search(query).docs"
   ]
  },
  {
   "attachments": {},
   "cell_type": "markdown",
   "metadata": {},
   "source": [
    "Questa query ritorna tutti i pokemon che hanno difesa compresa tra 0 e 90 O (inserendo l'operatore logico | (OR) e scrivendo all'interno dei valori del metodo Query due condizioni) che sono fuoco.\n",
    "I campi dei risultati vengono limitati a \"english\", \"type\" e \"att\" e vengono mostrati i primi 10 elementi.\n",
    "\n",
    "Si può evincere nei risultati di questa query che i documenti non sono ordinati e sono tutti pokemon di tipo fuoco:\n",
    "- I risultati non sono ordinati poiché i documenti restituiti da una query non viene garantito che siano ordinati nell'ordine in cui sono stati inseriti nell'indice;\n",
    "- i risultati sono tutti di tipo fuoco perché i primi 10 documenti ritornati sono tutti di tipo fuoco ma ampliando i risultati, quindi eliminando il vincolo \".paging(0, 10), si hanno tutti i documenti che soddisfano tali criteri."
   ]
  },
  {
   "attachments": {},
   "cell_type": "markdown",
   "metadata": {},
   "source": [
    "- Trovare la media dei valori di Attacco per tutti i tipi"
   ]
  },
  {
   "cell_type": "code",
   "execution_count": 36,
   "metadata": {},
   "outputs": [
    {
     "data": {
      "text/plain": [
       "[['type', '[\"Bug\",\"Poison\"]', 'avg_att', '60.9090909091'],\n",
       " ['type', '[\"Electric\",\"Flying\"]', 'avg_att', '93.3333333333'],\n",
       " ['type', '[\"Normal\",\"Flying\"]', 'avg_att', '76.0769230769']]"
      ]
     },
     "execution_count": 36,
     "metadata": {},
     "output_type": "execute_result"
    }
   ],
   "source": [
    "req = aggregations.AggregateRequest().group_by(\"@type\", reducers.avg(\"@att\").alias(\"avg_att\")).limit(0, 3)\n",
    "r.ft(\"pokemon\").aggregate(req).rows"
   ]
  },
  {
   "attachments": {},
   "cell_type": "markdown",
   "metadata": {},
   "source": [
    "Questa è una query di aggregazione, questo permette di raggruppare tutti i valori in base ad un determinato campo (in questo caso \"Type\") per poi poter eseguire un'operazione su tutti i valori che hanno il campo uguale (in questo caso la media sull'attacco 'reducers.avg(\"@att\")')."
   ]
  },
  {
   "attachments": {},
   "cell_type": "markdown",
   "metadata": {},
   "source": [
    "### Analisi delle tempistiche delle Query\n",
    "Per l'analisi delle tempistiche su Redis, tramite le modalità da noi eseguite, ci sono due opzioni:\n",
    "\n",
    "1) Utilizzando la libreria Time importandola semplicemente aggiungendo: import time;\n",
    "2) Utilizzando l'interfaccia di Redis su browser dove vi è la possibilità di scrivere query e uno dei dati mostrati è il tempo di esecuzione delle query.\n",
    "\n",
    "Tutti i tempi forniti sono in secondi.\n",
    "Il tempo risultante è uguale sia che si utilizzi la prima opzione sia che si utilizzi la seconda."
   ]
  },
  {
   "cell_type": "code",
   "execution_count": 27,
   "metadata": {},
   "outputs": [],
   "source": [
    "def avg_time(times):\n",
    "    print(sum(times) / len(times))"
   ]
  },
  {
   "attachments": {},
   "cell_type": "markdown",
   "metadata": {},
   "source": [
    "#### Prima Query"
   ]
  },
  {
   "cell_type": "code",
   "execution_count": 28,
   "metadata": {},
   "outputs": [
    {
     "name": "stdout",
     "output_type": "stream",
     "text": [
      "0.0013433933258056641\n"
     ]
    }
   ],
   "source": [
    "times = []\n",
    "\n",
    "overhead_start = time.time()\n",
    "overhead = time.time() - overhead_start\n",
    "for i in range(10):\n",
    "    start = time.time()\n",
    "    r.ft(\"pokemon\").search(\"Pika*\")\n",
    "    end = time.time()\n",
    "    times.append(end - start - overhead)\n",
    "\n",
    "avg_time(times)"
   ]
  },
  {
   "attachments": {},
   "cell_type": "markdown",
   "metadata": {},
   "source": [
    "#### Seconda Query"
   ]
  },
  {
   "cell_type": "code",
   "execution_count": 29,
   "metadata": {},
   "outputs": [
    {
     "name": "stdout",
     "output_type": "stream",
     "text": [
      "0.001299285888671875\n"
     ]
    }
   ],
   "source": [
    "times = []\n",
    "\n",
    "overhead_start = time.time()\n",
    "overhead = time.time() - overhead_start\n",
    "for i in range(10):\n",
    "    start = time.time()\n",
    "    query = Query(\"@type:Fire\")\n",
    "    r.ft(\"pokemon\").search(query)\n",
    "    end = time.time()\n",
    "    times.append(end - start - overhead)\n",
    "\n",
    "avg_time(times)"
   ]
  },
  {
   "attachments": {},
   "cell_type": "markdown",
   "metadata": {},
   "source": [
    "#### Terza Query"
   ]
  },
  {
   "cell_type": "code",
   "execution_count": 30,
   "metadata": {},
   "outputs": [
    {
     "name": "stdout",
     "output_type": "stream",
     "text": [
      "0.0012349605560302735\n"
     ]
    }
   ],
   "source": [
    "times = []\n",
    "\n",
    "overhead_start = time.time()\n",
    "overhead = time.time() - overhead_start\n",
    "for i in range(10):\n",
    "    start = time.time()\n",
    "    query = Query(\"@att:[50 100]\").return_fields(\"english\", \"att\").paging(0, 10)\n",
    "    r.ft(\"pokemon\").search(query)\n",
    "    end = time.time()\n",
    "    times.append(end - start - overhead)\n",
    "\n",
    "avg_time(times)"
   ]
  },
  {
   "attachments": {},
   "cell_type": "markdown",
   "metadata": {},
   "source": [
    "#### Quarta Query"
   ]
  },
  {
   "cell_type": "code",
   "execution_count": 31,
   "metadata": {},
   "outputs": [
    {
     "name": "stdout",
     "output_type": "stream",
     "text": [
      "0.0012802839279174804\n"
     ]
    }
   ],
   "source": [
    "times = []\n",
    "\n",
    "overhead_start = time.time()\n",
    "overhead = time.time() - overhead_start\n",
    "for i in range(10):\n",
    "    start = time.time()\n",
    "    query = Query(\"@def:[0 90] | @type:Fire\").return_fields(\"english\", \"type\", \"att\").paging(0, 10)\n",
    "    r.ft(\"pokemon\").search(query)\n",
    "    end = time.time()\n",
    "    times.append(end - start - overhead)\n",
    "\n",
    "avg_time(times)"
   ]
  },
  {
   "attachments": {},
   "cell_type": "markdown",
   "metadata": {},
   "source": [
    "#### Quinta Query"
   ]
  },
  {
   "cell_type": "code",
   "execution_count": 35,
   "metadata": {},
   "outputs": [
    {
     "name": "stdout",
     "output_type": "stream",
     "text": [
      "0.005329585075378418\n"
     ]
    }
   ],
   "source": [
    "times = []\n",
    "\n",
    "overhead_start = time.time()\n",
    "overhead = time.time() - overhead_start\n",
    "for i in range(10):\n",
    "    start = time.time()\n",
    "    req = aggregations.AggregateRequest().group_by(\"@type\", reducers.avg(\"@att\"))\n",
    "    r.ft(\"pokemon\").aggregate(req)\n",
    "    end = time.time()\n",
    "    times.append(end - start - overhead)\n",
    "\n",
    "avg_time(times)"
   ]
  },
  {
   "attachments": {},
   "cell_type": "markdown",
   "metadata": {},
   "source": [
    "I valori decimali mostrati al di sotto alle sezioni di codice sono il tempo di esecuzione delle query. Le query sono quelle sopra spiegate e riproposte con l'aggiunta delle funzioni relative al tempo.\n",
    "\n",
    "Redis è un DBMS ad alte prestazioni come si può denotare dalle tempistiche di esecuzione dove sono tutte nell'ordine di millesimi di secondo:\n",
    "\n",
    "- La query meno onerosa è la prima dove si cercano i pokemon che contengono \"Pika\" nel nome con un tempi di esecuzione di 0.0017 secondi;\n",
    "\n",
    "- La query più onerosa è la quinta dove vengono eseguite le aggregazioni dove si ha un tempo di esecuzione di 0.0074 secondi all'interno di un database contenente 809 elementi;\n",
    "\n",
    "- Tutte le altre query hanno un tempo di esecuzione simile compreso tra 0.0024 e 0.0026 secondi.\n",
    "\n",
    "A differenza di ElasticSearch su Redis non viene effettuato uno scoring per determinare i risultati, quindi se si ha un OR in una query, chiunque rispetti i criteri verrà portato nei risultati.\n",
    "Inoltre i risultati non sono in ordine in quanto redis non garantisce che i documenti siano salvati nell'ordine corretto in memoria, dunque è necessario eseguire un ordinamento."
   ]
  },
  {
   "attachments": {},
   "cell_type": "markdown",
   "metadata": {},
   "source": [
    "### Possibili Miglioramenti\n",
    "Così come per i molti db non relazionali, Redis permette una scalabilità di tipo orizzontale, creando varie repliche all'interno del cluster del DB.\n",
    "\n",
    "Questa tipologia di scaling è molto onerosa e comporta nel tempo all'acquisto di macchine sempre più potenti per sopperire alla necessità di aumentare il numero di repliche.\n",
    "\n",
    "Seguendo questo problema sono stati creati e resi disponibili molte varianti (chi più chi meno) del DBMS da noi scelto, uno di questi progetti è [Cachegrand](https://github.com/danielealbano/cachegrand), uno dei più veloci in-memory key-value database al momento disponibili sul mercato, creata e studiata dal basso, sfruttando al massimo le capacità hardware attuali.\n",
    "\n",
    "Compatibilità con Redis è uno dei punti di forza, ma il maggiore (come si vedrà nei benchmark qui sotto) sono le performance.\n",
    "Alcune features principali (anche elencate sul repo di github) sono:\n",
    "- Support al Protocollo Redis\n",
    "- Una Hashtable capace di valutare fino a 2.1 Miliardi di record al secondo (CPU in uso per il benchmark AMD EPYC 7502)\n",
    "- Un FFMA o Fast Fixed Memory Allocator che permette di allocare e liberare la memoria in O(1)\n",
    "- Scalabilità verticale, 2x CPU sono circa 2x richieste al secondo\n",
    "\n",
    "<div>\n",
    "<img src=\"https://raw.githubusercontent.com/cachegrand/cachegrand-benchmarks/main/images/latest-benchmarks-get-set.png\" width=\"700\"/>\n",
    "</div>\n",
    "Benchmark sul Get e Set\n",
    "<div>\n",
    "<img src=\"https://raw.githubusercontent.com/cachegrand/cachegrand-benchmarks/main/images/latest-benchmarks-get-set-pipelining.png\" width=\"700\">\n",
    "\n",
    "Benchmark sul Get e Set in pipeline"
   ]
  },
  {
   "attachments": {},
   "cell_type": "markdown",
   "metadata": {},
   "source": [
    "# Contributors\n",
    "Lorenzo Emanuele Avallone 866163\\\n",
    "Mattia Signorelli 852347"
   ]
  }
 ],
 "metadata": {
  "kernelspec": {
   "display_name": "Python 3",
   "language": "python",
   "name": "python3"
  },
  "language_info": {
   "codemirror_mode": {
    "name": "ipython",
    "version": 3
   },
   "file_extension": ".py",
   "mimetype": "text/x-python",
   "name": "python",
   "nbconvert_exporter": "python",
   "pygments_lexer": "ipython3",
   "version": "3.10.6"
  },
  "orig_nbformat": 4
 },
 "nbformat": 4,
 "nbformat_minor": 2
}
